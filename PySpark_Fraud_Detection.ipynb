{
  "cells": [
    {
      "cell_type": "code",
      "source": [
        "import urllib.request\n",
        "urllib.request.urlretrieve(\"http://kdd.ics.uci.edu/databases/kddcup99/kddcup.data_10_percent.gz\", \"/tmp/kddcup_data.gz\")\n",
        "\n",
        "# move temp file to the data bricks file system (dbfs)\n",
        "dbutils.fs.mv(\"file:/tmp/kddcup_data.gz\", \"dbfs:/kdd/kddcup_data.gz\")\n",
        "display(dbutils.fs.ls(\"dbfs:/kdd\"))"
      ],
      "metadata": {
        "application/vnd.databricks.v1+cell": {
          "title": "",
          "showTitle": false,
          "inputWidgets": {},
          "nuid": "7c867095-d86b-4791-af4b-5da03f189e5e"
        },
        "id": "taQf95s-pZkE",
        "outputId": "26f970d4-cd05-44b4-84ae-398a7fa3b580"
      },
      "outputs": [
        {
          "output_type": "display_data",
          "metadata": {
            "application/vnd.databricks.v1+output": {
              "overflow": false,
              "datasetInfos": [],
              "data": [
                [
                  "dbfs:/kdd/kddcup_data.gz",
                  "kddcup_data.gz",
                  2144903
                ]
              ],
              "plotOptions": {
                "displayType": "table",
                "customPlotOptions": {},
                "pivotColumns": null,
                "pivotAggregation": null,
                "xColumns": null,
                "yColumns": null
              },
              "columnCustomDisplayInfos": {},
              "aggType": "",
              "isJsonSchema": true,
              "removedWidgets": [],
              "aggSchema": [],
              "schema": [
                {
                  "name": "path",
                  "type": "\"string\"",
                  "metadata": "{}"
                },
                {
                  "name": "name",
                  "type": "\"string\"",
                  "metadata": "{}"
                },
                {
                  "name": "size",
                  "type": "\"long\"",
                  "metadata": "{}"
                }
              ],
              "aggError": "",
              "aggData": [],
              "addedWidgets": {},
              "metadata": {},
              "dbfsResultPath": null,
              "type": "table",
              "aggOverflow": false,
              "aggSeriesLimitReached": false,
              "arguments": {}
            }
          },
          "data": {
            "text/html": [
              "<style scoped>\n  .table-result-container {\n    max-height: 300px;\n    overflow: auto;\n  }\n  table, th, td {\n    border: 1px solid black;\n    border-collapse: collapse;\n  }\n  th, td {\n    padding: 5px;\n  }\n  th {\n    text-align: left;\n  }\n</style><div class='table-result-container'><table class='table-result'><thead style='background-color: white'><tr><th>path</th><th>name</th><th>size</th></tr></thead><tbody><tr><td>dbfs:/kdd/kddcup_data.gz</td><td>kddcup_data.gz</td><td>2144903</td></tr></tbody></table></div>"
            ]
          }
        }
      ],
      "execution_count": null
    },
    {
      "cell_type": "code",
      "source": [
        "# read the file and assign it to 4 partitions\n",
        "#load to RDD\n",
        "kdd_file= spark.sparkContext.textFile(\"dbfs:/kdd\",4)"
      ],
      "metadata": {
        "application/vnd.databricks.v1+cell": {
          "title": "",
          "showTitle": false,
          "inputWidgets": {},
          "nuid": "0555a269-0c66-4935-8490-2f754e87881b"
        },
        "id": "2gMSVBLTpZkF",
        "outputId": "c473fa54-d90c-4663-e57b-5895977017e5"
      },
      "outputs": [
        {
          "output_type": "display_data",
          "metadata": {
            "application/vnd.databricks.v1+output": {
              "datasetInfos": [],
              "data": "<div class=\"ansiout\"></div>",
              "removedWidgets": [],
              "addedWidgets": {},
              "metadata": {},
              "type": "html",
              "arguments": {}
            }
          },
          "data": {
            "text/html": [
              "<style scoped>\n  .ansiout {\n    display: block;\n    unicode-bidi: embed;\n    white-space: pre-wrap;\n    word-wrap: break-word;\n    word-break: break-all;\n    font-family: \"Source Code Pro\", \"Menlo\", monospace;;\n    font-size: 13px;\n    color: #555;\n    margin-left: 4px;\n    line-height: 19px;\n  }\n</style>\n<div class=\"ansiout\"></div>"
            ]
          }
        }
      ],
      "execution_count": null
    },
    {
      "cell_type": "code",
      "source": [
        "#print first 10 records in the RDD\n",
        "kdd_file.take(10)"
      ],
      "metadata": {
        "application/vnd.databricks.v1+cell": {
          "title": "",
          "showTitle": false,
          "inputWidgets": {},
          "nuid": "a547d242-2278-47a9-9004-4237cb0807b8"
        },
        "id": "jnHMr7DOpZkF",
        "outputId": "508b143e-a809-4067-f469-cb6a26cb00b8"
      },
      "outputs": [
        {
          "output_type": "display_data",
          "metadata": {
            "application/vnd.databricks.v1+output": {
              "datasetInfos": [],
              "data": "<div class=\"ansiout\">Out[4]: [&#39;0,tcp,http,SF,181,5450,0,0,0,0,0,1,0,0,0,0,0,0,0,0,0,0,8,8,0.00,0.00,0.00,0.00,1.00,0.00,0.00,9,9,1.00,0.00,0.11,0.00,0.00,0.00,0.00,0.00,normal.&#39;,\n &#39;0,tcp,http,SF,239,486,0,0,0,0,0,1,0,0,0,0,0,0,0,0,0,0,8,8,0.00,0.00,0.00,0.00,1.00,0.00,0.00,19,19,1.00,0.00,0.05,0.00,0.00,0.00,0.00,0.00,normal.&#39;,\n &#39;0,tcp,http,SF,235,1337,0,0,0,0,0,1,0,0,0,0,0,0,0,0,0,0,8,8,0.00,0.00,0.00,0.00,1.00,0.00,0.00,29,29,1.00,0.00,0.03,0.00,0.00,0.00,0.00,0.00,normal.&#39;,\n &#39;0,tcp,http,SF,219,1337,0,0,0,0,0,1,0,0,0,0,0,0,0,0,0,0,6,6,0.00,0.00,0.00,0.00,1.00,0.00,0.00,39,39,1.00,0.00,0.03,0.00,0.00,0.00,0.00,0.00,normal.&#39;,\n &#39;0,tcp,http,SF,217,2032,0,0,0,0,0,1,0,0,0,0,0,0,0,0,0,0,6,6,0.00,0.00,0.00,0.00,1.00,0.00,0.00,49,49,1.00,0.00,0.02,0.00,0.00,0.00,0.00,0.00,normal.&#39;,\n &#39;0,tcp,http,SF,217,2032,0,0,0,0,0,1,0,0,0,0,0,0,0,0,0,0,6,6,0.00,0.00,0.00,0.00,1.00,0.00,0.00,59,59,1.00,0.00,0.02,0.00,0.00,0.00,0.00,0.00,normal.&#39;,\n &#39;0,tcp,http,SF,212,1940,0,0,0,0,0,1,0,0,0,0,0,0,0,0,0,0,1,2,0.00,0.00,0.00,0.00,1.00,0.00,1.00,1,69,1.00,0.00,1.00,0.04,0.00,0.00,0.00,0.00,normal.&#39;,\n &#39;0,tcp,http,SF,159,4087,0,0,0,0,0,1,0,0,0,0,0,0,0,0,0,0,5,5,0.00,0.00,0.00,0.00,1.00,0.00,0.00,11,79,1.00,0.00,0.09,0.04,0.00,0.00,0.00,0.00,normal.&#39;,\n &#39;0,tcp,http,SF,210,151,0,0,0,0,0,1,0,0,0,0,0,0,0,0,0,0,8,8,0.00,0.00,0.00,0.00,1.00,0.00,0.00,8,89,1.00,0.00,0.12,0.04,0.00,0.00,0.00,0.00,normal.&#39;,\n &#39;0,tcp,http,SF,212,786,0,0,0,1,0,1,0,0,0,0,0,0,0,0,0,0,8,8,0.00,0.00,0.00,0.00,1.00,0.00,0.00,8,99,1.00,0.00,0.12,0.05,0.00,0.00,0.00,0.00,normal.&#39;]</div>",
              "removedWidgets": [],
              "addedWidgets": {},
              "metadata": {},
              "type": "html",
              "arguments": {}
            }
          },
          "data": {
            "text/html": [
              "<style scoped>\n  .ansiout {\n    display: block;\n    unicode-bidi: embed;\n    white-space: pre-wrap;\n    word-wrap: break-word;\n    word-break: break-all;\n    font-family: \"Source Code Pro\", \"Menlo\", monospace;;\n    font-size: 13px;\n    color: #555;\n    margin-left: 4px;\n    line-height: 19px;\n  }\n</style>\n<div class=\"ansiout\">Out[4]: [&#39;0,tcp,http,SF,181,5450,0,0,0,0,0,1,0,0,0,0,0,0,0,0,0,0,8,8,0.00,0.00,0.00,0.00,1.00,0.00,0.00,9,9,1.00,0.00,0.11,0.00,0.00,0.00,0.00,0.00,normal.&#39;,\n &#39;0,tcp,http,SF,239,486,0,0,0,0,0,1,0,0,0,0,0,0,0,0,0,0,8,8,0.00,0.00,0.00,0.00,1.00,0.00,0.00,19,19,1.00,0.00,0.05,0.00,0.00,0.00,0.00,0.00,normal.&#39;,\n &#39;0,tcp,http,SF,235,1337,0,0,0,0,0,1,0,0,0,0,0,0,0,0,0,0,8,8,0.00,0.00,0.00,0.00,1.00,0.00,0.00,29,29,1.00,0.00,0.03,0.00,0.00,0.00,0.00,0.00,normal.&#39;,\n &#39;0,tcp,http,SF,219,1337,0,0,0,0,0,1,0,0,0,0,0,0,0,0,0,0,6,6,0.00,0.00,0.00,0.00,1.00,0.00,0.00,39,39,1.00,0.00,0.03,0.00,0.00,0.00,0.00,0.00,normal.&#39;,\n &#39;0,tcp,http,SF,217,2032,0,0,0,0,0,1,0,0,0,0,0,0,0,0,0,0,6,6,0.00,0.00,0.00,0.00,1.00,0.00,0.00,49,49,1.00,0.00,0.02,0.00,0.00,0.00,0.00,0.00,normal.&#39;,\n &#39;0,tcp,http,SF,217,2032,0,0,0,0,0,1,0,0,0,0,0,0,0,0,0,0,6,6,0.00,0.00,0.00,0.00,1.00,0.00,0.00,59,59,1.00,0.00,0.02,0.00,0.00,0.00,0.00,0.00,normal.&#39;,\n &#39;0,tcp,http,SF,212,1940,0,0,0,0,0,1,0,0,0,0,0,0,0,0,0,0,1,2,0.00,0.00,0.00,0.00,1.00,0.00,1.00,1,69,1.00,0.00,1.00,0.04,0.00,0.00,0.00,0.00,normal.&#39;,\n &#39;0,tcp,http,SF,159,4087,0,0,0,0,0,1,0,0,0,0,0,0,0,0,0,0,5,5,0.00,0.00,0.00,0.00,1.00,0.00,0.00,11,79,1.00,0.00,0.09,0.04,0.00,0.00,0.00,0.00,normal.&#39;,\n &#39;0,tcp,http,SF,210,151,0,0,0,0,0,1,0,0,0,0,0,0,0,0,0,0,8,8,0.00,0.00,0.00,0.00,1.00,0.00,0.00,8,89,1.00,0.00,0.12,0.04,0.00,0.00,0.00,0.00,normal.&#39;,\n &#39;0,tcp,http,SF,212,786,0,0,0,1,0,1,0,0,0,0,0,0,0,0,0,0,8,8,0.00,0.00,0.00,0.00,1.00,0.00,0.00,8,99,1.00,0.00,0.12,0.05,0.00,0.00,0.00,0.00,normal.&#39;]</div>"
            ]
          }
        }
      ],
      "execution_count": null
    },
    {
      "cell_type": "code",
      "source": [
        "#confirm type of datastrcuture is RDD\n",
        "print(\"Type of data structure is: \",type(kdd_file))"
      ],
      "metadata": {
        "application/vnd.databricks.v1+cell": {
          "title": "",
          "showTitle": false,
          "inputWidgets": {},
          "nuid": "33bb32be-87dd-4612-aaa0-75029ce90918"
        },
        "id": "LspEzWIUpZkG",
        "outputId": "f74fdaf5-0645-49df-eed9-c1518528b45b"
      },
      "outputs": [
        {
          "output_type": "display_data",
          "metadata": {
            "application/vnd.databricks.v1+output": {
              "datasetInfos": [],
              "data": "<div class=\"ansiout\">Type of data structure is:  &lt;class &#39;pyspark.rdd.RDD&#39;&gt;\n</div>",
              "removedWidgets": [],
              "addedWidgets": {},
              "metadata": {},
              "type": "html",
              "arguments": {}
            }
          },
          "data": {
            "text/html": [
              "<style scoped>\n  .ansiout {\n    display: block;\n    unicode-bidi: embed;\n    white-space: pre-wrap;\n    word-wrap: break-word;\n    word-break: break-all;\n    font-family: \"Source Code Pro\", \"Menlo\", monospace;;\n    font-size: 13px;\n    color: #555;\n    margin-left: 4px;\n    line-height: 19px;\n  }\n</style>\n<div class=\"ansiout\">Type of data structure is:  &lt;class &#39;pyspark.rdd.RDD&#39;&gt;\n</div>"
            ]
          }
        }
      ],
      "execution_count": null
    },
    {
      "cell_type": "code",
      "source": [
        "# number of records\n",
        "kdd_file.count()"
      ],
      "metadata": {
        "application/vnd.databricks.v1+cell": {
          "title": "",
          "showTitle": false,
          "inputWidgets": {},
          "nuid": "fbadfe1a-77d7-46a8-add0-7656c6d5939c"
        },
        "id": "nZOZWGp3pZkG",
        "outputId": "79880121-c30a-4129-c131-409df7b04a3c"
      },
      "outputs": [
        {
          "output_type": "display_data",
          "metadata": {
            "application/vnd.databricks.v1+output": {
              "datasetInfos": [],
              "data": "<div class=\"ansiout\">Out[6]: 494021</div>",
              "removedWidgets": [],
              "addedWidgets": {},
              "metadata": {},
              "type": "html",
              "arguments": {}
            }
          },
          "data": {
            "text/html": [
              "<style scoped>\n  .ansiout {\n    display: block;\n    unicode-bidi: embed;\n    white-space: pre-wrap;\n    word-wrap: break-word;\n    word-break: break-all;\n    font-family: \"Source Code Pro\", \"Menlo\", monospace;;\n    font-size: 13px;\n    color: #555;\n    margin-left: 4px;\n    line-height: 19px;\n  }\n</style>\n<div class=\"ansiout\">Out[6]: 494021</div>"
            ]
          }
        }
      ],
      "execution_count": null
    },
    {
      "cell_type": "code",
      "source": [
        "kdd_records = kdd_file.map(lambda line: line.split(\",\"))"
      ],
      "metadata": {
        "application/vnd.databricks.v1+cell": {
          "title": "",
          "showTitle": false,
          "inputWidgets": {},
          "nuid": "04b83102-83f6-4dc2-aee6-4a87ae0ab52f"
        },
        "id": "3sjCayCDpZkG",
        "outputId": "da0ece43-4520-49fc-80bc-c19ac67cdf7a"
      },
      "outputs": [
        {
          "output_type": "display_data",
          "metadata": {
            "application/vnd.databricks.v1+output": {
              "datasetInfos": [],
              "data": "<div class=\"ansiout\"></div>",
              "removedWidgets": [],
              "addedWidgets": {},
              "metadata": {},
              "type": "html",
              "arguments": {}
            }
          },
          "data": {
            "text/html": [
              "<style scoped>\n  .ansiout {\n    display: block;\n    unicode-bidi: embed;\n    white-space: pre-wrap;\n    word-wrap: break-word;\n    word-break: break-all;\n    font-family: \"Source Code Pro\", \"Menlo\", monospace;;\n    font-size: 13px;\n    color: #555;\n    margin-left: 4px;\n    line-height: 19px;\n  }\n</style>\n<div class=\"ansiout\"></div>"
            ]
          }
        }
      ],
      "execution_count": null
    },
    {
      "cell_type": "code",
      "source": [
        "print(\"The count of columns in each record is: \", len(kdd_records.take(1)[0]))\n",
        "\n",
        "print(\"However, the last column is the classification label of the traffic as Normal or Attack Type\")\n",
        "print(\"As such, the number of features is: \", len(kdd_records.take(1)[0])-1)"
      ],
      "metadata": {
        "application/vnd.databricks.v1+cell": {
          "title": "",
          "showTitle": false,
          "inputWidgets": {},
          "nuid": "40e3e41e-eab8-41e8-9a90-0d98f5790612"
        },
        "id": "GyCuUvuapZkG",
        "outputId": "d91761b8-3b69-46f9-b5db-9e0d6a615701"
      },
      "outputs": [
        {
          "output_type": "display_data",
          "metadata": {
            "application/vnd.databricks.v1+output": {
              "datasetInfos": [],
              "data": "<div class=\"ansiout\">The count of columns in each record is:  42\nHowever, the last column is the classification label of the traffic as Normal or Attack Type\nAs such, the number of features is:  41\n</div>",
              "removedWidgets": [],
              "addedWidgets": {},
              "metadata": {},
              "type": "html",
              "arguments": {}
            }
          },
          "data": {
            "text/html": [
              "<style scoped>\n  .ansiout {\n    display: block;\n    unicode-bidi: embed;\n    white-space: pre-wrap;\n    word-wrap: break-word;\n    word-break: break-all;\n    font-family: \"Source Code Pro\", \"Menlo\", monospace;;\n    font-size: 13px;\n    color: #555;\n    margin-left: 4px;\n    line-height: 19px;\n  }\n</style>\n<div class=\"ansiout\">The count of columns in each record is:  42\nHowever, the last column is the classification label of the traffic as Normal or Attack Type\nAs such, the number of features is:  41\n</div>"
            ]
          }
        }
      ],
      "execution_count": null
    },
    {
      "cell_type": "code",
      "source": [
        "#filter of columns using RDD\n",
        "#The column order is: duration, protocol_type, service, flag, src_bytes, dst_bytes, label\n",
        "\n",
        "#create new RDD\n",
        "#determined which columns are which based on http://kdd.ics.uci.edu/databases/kddcup99/kddcup.names\n",
        "kdd_filtered= kdd_records.map(lambda r: [r[i] for i in [0,1,2,3,4,5,41]])\n",
        "\n",
        "#create new dataframe with col names\n",
        "kdd_filtered_df = kdd_filtered.toDF([\"duration\",\"protocol_type\",\"service\",\"flag\",\"src_bytes\",\"dst_bytes\",\"label\"])"
      ],
      "metadata": {
        "application/vnd.databricks.v1+cell": {
          "title": "",
          "showTitle": false,
          "inputWidgets": {},
          "nuid": "5916f334-db98-461d-b37d-bf19293f9a29"
        },
        "id": "QGLy7XSZpZkG",
        "outputId": "102c4358-fac8-4e9b-fca4-4d1d3574f80f"
      },
      "outputs": [
        {
          "output_type": "display_data",
          "metadata": {
            "application/vnd.databricks.v1+output": {
              "datasetInfos": [
                {
                  "name": "kdd_filtered_df",
                  "typeStr": "pyspark.sql.dataframe.DataFrame",
                  "schema": {
                    "fields": [
                      {
                        "metadata": {},
                        "name": "duration",
                        "nullable": true,
                        "type": "string"
                      },
                      {
                        "metadata": {},
                        "name": "protocol_type",
                        "nullable": true,
                        "type": "string"
                      },
                      {
                        "metadata": {},
                        "name": "service",
                        "nullable": true,
                        "type": "string"
                      },
                      {
                        "metadata": {},
                        "name": "flag",
                        "nullable": true,
                        "type": "string"
                      },
                      {
                        "metadata": {},
                        "name": "src_bytes",
                        "nullable": true,
                        "type": "string"
                      },
                      {
                        "metadata": {},
                        "name": "dst_bytes",
                        "nullable": true,
                        "type": "string"
                      },
                      {
                        "metadata": {},
                        "name": "label",
                        "nullable": true,
                        "type": "string"
                      }
                    ],
                    "type": "struct"
                  },
                  "tableIdentifier": null
                }
              ],
              "data": "<div class=\"ansiout\"></div>",
              "removedWidgets": [],
              "addedWidgets": {},
              "metadata": {},
              "type": "html",
              "arguments": {}
            }
          },
          "data": {
            "text/html": [
              "<style scoped>\n  .ansiout {\n    display: block;\n    unicode-bidi: embed;\n    white-space: pre-wrap;\n    word-wrap: break-word;\n    word-break: break-all;\n    font-family: \"Source Code Pro\", \"Menlo\", monospace;;\n    font-size: 13px;\n    color: #555;\n    margin-left: 4px;\n    line-height: 19px;\n  }\n</style>\n<div class=\"ansiout\"></div>"
            ]
          }
        }
      ],
      "execution_count": null
    },
    {
      "cell_type": "code",
      "source": [
        "print(\"Confirm number od records is the same as the original RDD: \" , kdd_filtered_df.count())\n",
        "#show the filtered dataframe first 10 rows\n",
        "kdd_filtered_df.show(10)"
      ],
      "metadata": {
        "application/vnd.databricks.v1+cell": {
          "title": "",
          "showTitle": false,
          "inputWidgets": {},
          "nuid": "adbfbee9-277e-40ca-9962-cf47cdf2b42b"
        },
        "id": "Ar77iaGfpZkG",
        "outputId": "fee7ef4c-e377-4266-c727-5552ef677059"
      },
      "outputs": [
        {
          "output_type": "display_data",
          "metadata": {
            "application/vnd.databricks.v1+output": {
              "datasetInfos": [],
              "data": "<div class=\"ansiout\">Confirm number od records is the same as the original RDD:  494021\n+--------+-------------+-------+----+---------+---------+-------+\n|duration|protocol_type|service|flag|src_bytes|dst_bytes|  label|\n+--------+-------------+-------+----+---------+---------+-------+\n|       0|          tcp|   http|  SF|      181|     5450|normal.|\n|       0|          tcp|   http|  SF|      239|      486|normal.|\n|       0|          tcp|   http|  SF|      235|     1337|normal.|\n|       0|          tcp|   http|  SF|      219|     1337|normal.|\n|       0|          tcp|   http|  SF|      217|     2032|normal.|\n|       0|          tcp|   http|  SF|      217|     2032|normal.|\n|       0|          tcp|   http|  SF|      212|     1940|normal.|\n|       0|          tcp|   http|  SF|      159|     4087|normal.|\n|       0|          tcp|   http|  SF|      210|      151|normal.|\n|       0|          tcp|   http|  SF|      212|      786|normal.|\n+--------+-------------+-------+----+---------+---------+-------+\nonly showing top 10 rows\n\n</div>",
              "removedWidgets": [],
              "addedWidgets": {},
              "metadata": {},
              "type": "html",
              "arguments": {}
            }
          },
          "data": {
            "text/html": [
              "<style scoped>\n  .ansiout {\n    display: block;\n    unicode-bidi: embed;\n    white-space: pre-wrap;\n    word-wrap: break-word;\n    word-break: break-all;\n    font-family: \"Source Code Pro\", \"Menlo\", monospace;;\n    font-size: 13px;\n    color: #555;\n    margin-left: 4px;\n    line-height: 19px;\n  }\n</style>\n<div class=\"ansiout\">Confirm number od records is the same as the original RDD:  494021\n+--------+-------------+-------+----+---------+---------+-------+\nduration|protocol_type|service|flag|src_bytes|dst_bytes|  label|\n+--------+-------------+-------+----+---------+---------+-------+\n       0|          tcp|   http|  SF|      181|     5450|normal.|\n       0|          tcp|   http|  SF|      239|      486|normal.|\n       0|          tcp|   http|  SF|      235|     1337|normal.|\n       0|          tcp|   http|  SF|      219|     1337|normal.|\n       0|          tcp|   http|  SF|      217|     2032|normal.|\n       0|          tcp|   http|  SF|      217|     2032|normal.|\n       0|          tcp|   http|  SF|      212|     1940|normal.|\n       0|          tcp|   http|  SF|      159|     4087|normal.|\n       0|          tcp|   http|  SF|      210|      151|normal.|\n       0|          tcp|   http|  SF|      212|      786|normal.|\n+--------+-------------+-------+----+---------+---------+-------+\nonly showing top 10 rows\n\n</div>"
            ]
          }
        }
      ],
      "execution_count": null
    },
    {
      "cell_type": "code",
      "source": [
        "#show schema\n",
        "kdd_filtered_df.printSchema()"
      ],
      "metadata": {
        "application/vnd.databricks.v1+cell": {
          "title": "",
          "showTitle": false,
          "inputWidgets": {},
          "nuid": "85e685d5-e678-4adf-9227-57d9d0a7f692"
        },
        "id": "5X2oPMEJpZkG",
        "outputId": "645e0383-0a61-457d-97d5-8d27c7e7c1b0"
      },
      "outputs": [
        {
          "output_type": "display_data",
          "metadata": {
            "application/vnd.databricks.v1+output": {
              "datasetInfos": [],
              "data": "<div class=\"ansiout\">root\n |-- duration: string (nullable = true)\n |-- protocol_type: string (nullable = true)\n |-- service: string (nullable = true)\n |-- flag: string (nullable = true)\n |-- src_bytes: string (nullable = true)\n |-- dst_bytes: string (nullable = true)\n |-- label: string (nullable = true)\n\n</div>",
              "removedWidgets": [],
              "addedWidgets": {},
              "metadata": {},
              "type": "html",
              "arguments": {}
            }
          },
          "data": {
            "text/html": [
              "<style scoped>\n  .ansiout {\n    display: block;\n    unicode-bidi: embed;\n    white-space: pre-wrap;\n    word-wrap: break-word;\n    word-break: break-all;\n    font-family: \"Source Code Pro\", \"Menlo\", monospace;;\n    font-size: 13px;\n    color: #555;\n    margin-left: 4px;\n    line-height: 19px;\n  }\n</style>\n<div class=\"ansiout\">root\n-- duration: string (nullable = true)\n-- protocol_type: string (nullable = true)\n-- service: string (nullable = true)\n-- flag: string (nullable = true)\n-- src_bytes: string (nullable = true)\n-- dst_bytes: string (nullable = true)\n-- label: string (nullable = true)\n\n</div>"
            ]
          }
        }
      ],
      "execution_count": null
    },
    {
      "cell_type": "code",
      "source": [
        "kdd_filtered_df = kdd_filtered_df.withColumn('duration',kdd_filtered_df.duration.cast(\"double\"))\n",
        "kdd_filtered_df = kdd_filtered_df.withColumn('src_bytes',kdd_filtered_df.src_bytes.cast(\"int\"))\n",
        "kdd_filtered_df = kdd_filtered_df.withColumn('dst_bytes',kdd_filtered_df.dst_bytes.cast(\"int\"))"
      ],
      "metadata": {
        "application/vnd.databricks.v1+cell": {
          "title": "",
          "showTitle": false,
          "inputWidgets": {},
          "nuid": "558edf31-8f86-4ab9-a750-7698fc734bbb"
        },
        "id": "YTUD_HrdpZkG",
        "outputId": "1c155b03-bfcb-421f-9f21-2c2e52805d83"
      },
      "outputs": [
        {
          "output_type": "display_data",
          "metadata": {
            "application/vnd.databricks.v1+output": {
              "datasetInfos": [
                {
                  "name": "kdd_filtered_df",
                  "typeStr": "pyspark.sql.dataframe.DataFrame",
                  "schema": {
                    "fields": [
                      {
                        "metadata": {},
                        "name": "duration",
                        "nullable": true,
                        "type": "double"
                      },
                      {
                        "metadata": {},
                        "name": "protocol_type",
                        "nullable": true,
                        "type": "string"
                      },
                      {
                        "metadata": {},
                        "name": "service",
                        "nullable": true,
                        "type": "string"
                      },
                      {
                        "metadata": {},
                        "name": "flag",
                        "nullable": true,
                        "type": "string"
                      },
                      {
                        "metadata": {},
                        "name": "src_bytes",
                        "nullable": true,
                        "type": "integer"
                      },
                      {
                        "metadata": {},
                        "name": "dst_bytes",
                        "nullable": true,
                        "type": "integer"
                      },
                      {
                        "metadata": {},
                        "name": "label",
                        "nullable": true,
                        "type": "string"
                      }
                    ],
                    "type": "struct"
                  },
                  "tableIdentifier": null
                }
              ],
              "data": "<div class=\"ansiout\"></div>",
              "removedWidgets": [],
              "addedWidgets": {},
              "metadata": {},
              "type": "html",
              "arguments": {}
            }
          },
          "data": {
            "text/html": [
              "<style scoped>\n  .ansiout {\n    display: block;\n    unicode-bidi: embed;\n    white-space: pre-wrap;\n    word-wrap: break-word;\n    word-break: break-all;\n    font-family: \"Source Code Pro\", \"Menlo\", monospace;;\n    font-size: 13px;\n    color: #555;\n    margin-left: 4px;\n    line-height: 19px;\n  }\n</style>\n<div class=\"ansiout\"></div>"
            ]
          }
        }
      ],
      "execution_count": null
    },
    {
      "cell_type": "code",
      "source": [
        "#show updated schema that will allow calculations\n",
        "kdd_filtered_df.printSchema()"
      ],
      "metadata": {
        "application/vnd.databricks.v1+cell": {
          "title": "",
          "showTitle": false,
          "inputWidgets": {},
          "nuid": "729055e2-a868-4697-b4f1-bfcb4e652764"
        },
        "id": "FnrI3wmQpZkH",
        "outputId": "eca3f896-93fb-4b14-f7e0-10404506a3ff"
      },
      "outputs": [
        {
          "output_type": "display_data",
          "metadata": {
            "application/vnd.databricks.v1+output": {
              "datasetInfos": [],
              "data": "<div class=\"ansiout\">root\n |-- duration: double (nullable = true)\n |-- protocol_type: string (nullable = true)\n |-- service: string (nullable = true)\n |-- flag: string (nullable = true)\n |-- src_bytes: integer (nullable = true)\n |-- dst_bytes: integer (nullable = true)\n |-- label: string (nullable = true)\n\n</div>",
              "removedWidgets": [],
              "addedWidgets": {},
              "metadata": {},
              "type": "html",
              "arguments": {}
            }
          },
          "data": {
            "text/html": [
              "<style scoped>\n  .ansiout {\n    display: block;\n    unicode-bidi: embed;\n    white-space: pre-wrap;\n    word-wrap: break-word;\n    word-break: break-all;\n    font-family: \"Source Code Pro\", \"Menlo\", monospace;;\n    font-size: 13px;\n    color: #555;\n    margin-left: 4px;\n    line-height: 19px;\n  }\n</style>\n<div class=\"ansiout\">root\n-- duration: double (nullable = true)\n-- protocol_type: string (nullable = true)\n-- service: string (nullable = true)\n-- flag: string (nullable = true)\n-- src_bytes: integer (nullable = true)\n-- dst_bytes: integer (nullable = true)\n-- label: string (nullable = true)\n\n</div>"
            ]
          }
        }
      ],
      "execution_count": null
    },
    {
      "cell_type": "code",
      "source": [
        "#show the filtered dataframe first 10 rows\n",
        "kdd_filtered_df.show(10)"
      ],
      "metadata": {
        "application/vnd.databricks.v1+cell": {
          "title": "",
          "showTitle": false,
          "inputWidgets": {},
          "nuid": "03554263-49dc-4197-b3ec-f78d9fb567f6"
        },
        "id": "6aEbRjWppZkH",
        "outputId": "fe2efe1c-316c-4e71-9ab1-c566e5841398"
      },
      "outputs": [
        {
          "output_type": "display_data",
          "metadata": {
            "application/vnd.databricks.v1+output": {
              "datasetInfos": [],
              "data": "<div class=\"ansiout\">+--------+-------------+-------+----+---------+---------+-------+\n|duration|protocol_type|service|flag|src_bytes|dst_bytes|  label|\n+--------+-------------+-------+----+---------+---------+-------+\n|     0.0|          tcp|   http|  SF|      181|     5450|normal.|\n|     0.0|          tcp|   http|  SF|      239|      486|normal.|\n|     0.0|          tcp|   http|  SF|      235|     1337|normal.|\n|     0.0|          tcp|   http|  SF|      219|     1337|normal.|\n|     0.0|          tcp|   http|  SF|      217|     2032|normal.|\n|     0.0|          tcp|   http|  SF|      217|     2032|normal.|\n|     0.0|          tcp|   http|  SF|      212|     1940|normal.|\n|     0.0|          tcp|   http|  SF|      159|     4087|normal.|\n|     0.0|          tcp|   http|  SF|      210|      151|normal.|\n|     0.0|          tcp|   http|  SF|      212|      786|normal.|\n+--------+-------------+-------+----+---------+---------+-------+\nonly showing top 10 rows\n\n</div>",
              "removedWidgets": [],
              "addedWidgets": {},
              "metadata": {},
              "type": "html",
              "arguments": {}
            }
          },
          "data": {
            "text/html": [
              "<style scoped>\n  .ansiout {\n    display: block;\n    unicode-bidi: embed;\n    white-space: pre-wrap;\n    word-wrap: break-word;\n    word-break: break-all;\n    font-family: \"Source Code Pro\", \"Menlo\", monospace;;\n    font-size: 13px;\n    color: #555;\n    margin-left: 4px;\n    line-height: 19px;\n  }\n</style>\n<div class=\"ansiout\">+--------+-------------+-------+----+---------+---------+-------+\nduration|protocol_type|service|flag|src_bytes|dst_bytes|  label|\n+--------+-------------+-------+----+---------+---------+-------+\n     0.0|          tcp|   http|  SF|      181|     5450|normal.|\n     0.0|          tcp|   http|  SF|      239|      486|normal.|\n     0.0|          tcp|   http|  SF|      235|     1337|normal.|\n     0.0|          tcp|   http|  SF|      219|     1337|normal.|\n     0.0|          tcp|   http|  SF|      217|     2032|normal.|\n     0.0|          tcp|   http|  SF|      217|     2032|normal.|\n     0.0|          tcp|   http|  SF|      212|     1940|normal.|\n     0.0|          tcp|   http|  SF|      159|     4087|normal.|\n     0.0|          tcp|   http|  SF|      210|      151|normal.|\n     0.0|          tcp|   http|  SF|      212|      786|normal.|\n+--------+-------------+-------+----+---------+---------+-------+\nonly showing top 10 rows\n\n</div>"
            ]
          }
        }
      ],
      "execution_count": null
    },
    {
      "cell_type": "code",
      "source": [
        "# plot box plot for each number-based column [\"dst_bytes\", \"src_bytes\", \"duration\"] by each categorical column [\"protocol_type\",\"service\",\"flag\"]\n",
        "#the purpose to is to get a sense of outliers in the dataset\n",
        "for y in [\"protocol_type\",\"service\",\"flag\"]:\n",
        "    kdd_df_pandas.boxplot(column=[\"dst_bytes\", \"src_bytes\", \"duration\"], by=y, figsize=(40,5),layout=(1,3), rot=90)\n",
        "    print()\n",
        "    print()\n"
      ],
      "metadata": {
        "application/vnd.databricks.v1+cell": {
          "title": "",
          "showTitle": false,
          "inputWidgets": {},
          "nuid": "5e6ad898-401c-4d3d-afb0-96d58558dff9"
        },
        "id": "NG_6moLTpZkH",
        "outputId": "faadce8a-7d87-46bc-da44-7f7bf1a5cdf4"
      },
      "outputs": [
        {
          "output_type": "display_data",
          "metadata": {
            "application/vnd.databricks.v1+output": {
              "datasetInfos": [],
              "data": "/plots/445d97a7-8318-4e31-8dec-11d16ee6a86c.png",
              "removedWidgets": [],
              "addedWidgets": {},
              "metadata": {},
              "type": "image",
              "arguments": {}
            }
          },
          "data": {
            "image/png": "[encoded data removed]"
          }
        },
        {
          "output_type": "display_data",
          "metadata": {
            "application/vnd.databricks.v1+output": {
              "datasetInfos": [],
              "data": "/plots/5e80bf62-f85f-4aea-9ed7-22801650e1ea.png",
              "removedWidgets": [],
              "addedWidgets": {},
              "metadata": {},
              "type": "image",
              "arguments": {}
            }
          },
          "data": {
            "image/png": "[encoded data removed]"
          }
        },
        {
          "output_type": "display_data",
          "metadata": {
            "application/vnd.databricks.v1+output": {
              "datasetInfos": [],
              "data": "/plots/6916bfa5-ca2d-4f82-8abd-989c9bacab5a.png",
              "removedWidgets": [],
              "addedWidgets": {},
              "metadata": {},
              "type": "image",
              "arguments": {}
            }
          },
          "data": {
            "image/png": "[encoded data removed]"
          }
        }
      ],
      "execution_count": null
    },
    {
      "cell_type": "code",
      "source": [
        "from pyspark.sql import functions as F\n",
        "\n",
        "kdd_filtered_df.groupby(\"label\").agg(((F.count('src_bytes')/kdd_df_pandas.shape[0])*100).alias(\"Percentage\")).sort(['Percentage'],ascending=False).show()"
      ],
      "metadata": {
        "application/vnd.databricks.v1+cell": {
          "title": "",
          "showTitle": false,
          "inputWidgets": {},
          "nuid": "41811864-513c-487b-be62-92720849c506"
        },
        "id": "cXNGtg-EpZkI",
        "outputId": "547474f6-6be0-4c4f-f2dd-5ed783b8d821"
      },
      "outputs": [
        {
          "output_type": "display_data",
          "metadata": {
            "application/vnd.databricks.v1+output": {
              "datasetInfos": [],
              "data": "<div class=\"ansiout\">+----------------+--------------------+\n|           label|          Percentage|\n+----------------+--------------------+\n|          smurf.|    56.8376647956261|\n|        neptune.|   21.69968483121163|\n|         normal.|  19.691065764410826|\n|           back.|  0.4459324603609968|\n|          satan.| 0.32164624580736445|\n|        ipsweep.|  0.2524184194599015|\n|      portsweep.|  0.2105173666706476|\n|    warezclient.| 0.20646895577313512|\n|       teardrop.|  0.1981697134332346|\n|            pod.|0.053439023847164396|\n|           nmap.| 0.04675914586626884|\n|   guess_passwd.|0.010728288878408003|\n|buffer_overflow.|0.006072616346268681|\n|           land.|0.004250831442388077|\n|    warezmaster.|0.004048410897512454|\n|           imap.|0.002429046538507...|\n|        rootkit.|0.002024205448756227|\n|     loadmodule.|0.001821784903880...|\n|      ftp_write.|0.001619364359004...|\n|       multihop.|0.001416943814129359|\n+----------------+--------------------+\nonly showing top 20 rows\n\n</div>",
              "removedWidgets": [],
              "addedWidgets": {},
              "metadata": {},
              "type": "html",
              "arguments": {}
            }
          },
          "data": {
            "text/html": [
              "<style scoped>\n  .ansiout {\n    display: block;\n    unicode-bidi: embed;\n    white-space: pre-wrap;\n    word-wrap: break-word;\n    word-break: break-all;\n    font-family: \"Source Code Pro\", \"Menlo\", monospace;;\n    font-size: 13px;\n    color: #555;\n    margin-left: 4px;\n    line-height: 19px;\n  }\n</style>\n<div class=\"ansiout\">+----------------+--------------------+\n           label|          Percentage|\n+----------------+--------------------+\n          smurf.|    56.8376647956261|\n        neptune.|   21.69968483121163|\n         normal.|  19.691065764410826|\n           back.|  0.4459324603609968|\n          satan.| 0.32164624580736445|\n        ipsweep.|  0.2524184194599015|\n      portsweep.|  0.2105173666706476|\n    warezclient.| 0.20646895577313512|\n       teardrop.|  0.1981697134332346|\n            pod.|0.053439023847164396|\n           nmap.| 0.04675914586626884|\n   guess_passwd.|0.010728288878408003|\nbuffer_overflow.|0.006072616346268681|\n           land.|0.004250831442388077|\n    warezmaster.|0.004048410897512454|\n           imap.|0.002429046538507...|\n        rootkit.|0.002024205448756227|\n     loadmodule.|0.001821784903880...|\n      ftp_write.|0.001619364359004...|\n       multihop.|0.001416943814129359|\n+----------------+--------------------+\nonly showing top 20 rows\n\n</div>"
            ]
          }
        }
      ],
      "execution_count": null
    },
    {
      "cell_type": "code",
      "source": [
        "#get count by label\n",
        "kdd_df_pandas.groupby(\"label\").agg(count =('src_bytes','count')).sort_values(['count'],ascending=True).plot.bar(title=\"Count of Records by Label\", figsize=(20,5)).set(ylabel=\"Count of Records\")"
      ],
      "metadata": {
        "application/vnd.databricks.v1+cell": {
          "title": "",
          "showTitle": false,
          "inputWidgets": {},
          "nuid": "13d93b41-7d40-4c2c-af21-25a6aae4b88a"
        },
        "id": "RBlm5zPrpZkI",
        "outputId": "776704d0-d55a-4ee2-b205-1857b003a1bc"
      },
      "outputs": [
        {
          "output_type": "display_data",
          "metadata": {
            "application/vnd.databricks.v1+output": {
              "datasetInfos": [],
              "data": "/plots/25f54138-6030-47ce-9006-169711e3df83.png",
              "removedWidgets": [],
              "addedWidgets": {},
              "metadata": {},
              "type": "image",
              "arguments": {}
            }
          },
          "data": {
            "image/png": "[encoded data removed]"
          }
        }
      ],
      "execution_count": null
    },
    {
      "cell_type": "code",
      "source": [
        "# import libraries\n",
        "from pyspark.ml.classification import NaiveBayes\n",
        "from pyspark.ml.evaluation import MulticlassClassificationEvaluator\n",
        "\n",
        "from pyspark.sql.types import StringType\n",
        "from pyspark.sql.functions import udf\n",
        "\n",
        "from pyspark.ml.feature import StringIndexer, OneHotEncoder, VectorAssembler\n",
        "from pyspark.ml import Pipeline"
      ],
      "metadata": {
        "application/vnd.databricks.v1+cell": {
          "title": "",
          "showTitle": false,
          "inputWidgets": {},
          "nuid": "431a1cc5-d4b3-4e16-9677-b50fbc08a82b"
        },
        "id": "GFcrwsRfpZkI",
        "outputId": "9e7ac984-7b09-4a27-b573-2e25693f8b03"
      },
      "outputs": [
        {
          "output_type": "display_data",
          "metadata": {
            "application/vnd.databricks.v1+output": {
              "datasetInfos": [],
              "data": "<div class=\"ansiout\"></div>",
              "removedWidgets": [],
              "addedWidgets": {},
              "metadata": {},
              "type": "html",
              "arguments": {}
            }
          },
          "data": {
            "text/html": [
              "<style scoped>\n  .ansiout {\n    display: block;\n    unicode-bidi: embed;\n    white-space: pre-wrap;\n    word-wrap: break-word;\n    word-break: break-all;\n    font-family: \"Source Code Pro\", \"Menlo\", monospace;;\n    font-size: 13px;\n    color: #555;\n    margin-left: 4px;\n    line-height: 19px;\n  }\n</style>\n<div class=\"ansiout\"></div>"
            ]
          }
        }
      ],
      "execution_count": null
    },
    {
      "cell_type": "code",
      "source": [
        "#create the new label where if not normal then attack\n",
        "filter_udf = udf(lambda x: \"normal\" if x == 'normal.' else \"attack\", StringType())\n",
        "\n",
        "kdd_label_df = kdd_filtered_df.withColumn(\"new_label\", filter_udf(kdd_filtered_df.label))"
      ],
      "metadata": {
        "application/vnd.databricks.v1+cell": {
          "title": "",
          "showTitle": false,
          "inputWidgets": {},
          "nuid": "1bb0c605-358a-4475-905a-17aab18b210f"
        },
        "id": "G3AZjujkpZkN",
        "outputId": "2ea5b110-bf84-4d55-d187-425871ba9efd"
      },
      "outputs": [
        {
          "output_type": "display_data",
          "metadata": {
            "application/vnd.databricks.v1+output": {
              "datasetInfos": [
                {
                  "name": "kdd_label_df",
                  "typeStr": "pyspark.sql.dataframe.DataFrame",
                  "schema": {
                    "fields": [
                      {
                        "metadata": {},
                        "name": "duration",
                        "nullable": true,
                        "type": "double"
                      },
                      {
                        "metadata": {},
                        "name": "protocol_type",
                        "nullable": true,
                        "type": "string"
                      },
                      {
                        "metadata": {},
                        "name": "service",
                        "nullable": true,
                        "type": "string"
                      },
                      {
                        "metadata": {},
                        "name": "flag",
                        "nullable": true,
                        "type": "string"
                      },
                      {
                        "metadata": {},
                        "name": "src_bytes",
                        "nullable": true,
                        "type": "integer"
                      },
                      {
                        "metadata": {},
                        "name": "dst_bytes",
                        "nullable": true,
                        "type": "integer"
                      },
                      {
                        "metadata": {},
                        "name": "label",
                        "nullable": true,
                        "type": "string"
                      },
                      {
                        "metadata": {},
                        "name": "new_label",
                        "nullable": true,
                        "type": "string"
                      }
                    ],
                    "type": "struct"
                  },
                  "tableIdentifier": null
                }
              ],
              "data": "<div class=\"ansiout\"></div>",
              "removedWidgets": [],
              "addedWidgets": {},
              "metadata": {},
              "type": "html",
              "arguments": {}
            }
          },
          "data": {
            "text/html": [
              "<style scoped>\n  .ansiout {\n    display: block;\n    unicode-bidi: embed;\n    white-space: pre-wrap;\n    word-wrap: break-word;\n    word-break: break-all;\n    font-family: \"Source Code Pro\", \"Menlo\", monospace;;\n    font-size: 13px;\n    color: #555;\n    margin-left: 4px;\n    line-height: 19px;\n  }\n</style>\n<div class=\"ansiout\"></div>"
            ]
          }
        }
      ],
      "execution_count": null
    },
    {
      "cell_type": "code",
      "source": [
        "#prepare feature data by converting the string columns to one hot encoded columns to create the features col which would be the input to the ML model\n",
        "\n",
        "data_indexers = [StringIndexer(inputCol=col,outputCol= col+\"_index\").fit(kdd_label_df) for col in [\"service\",\"flag\",\"protocol_type\"] ]\n",
        "\n",
        "\n",
        "pipeln_1 = Pipeline(stages=data_indexers)\n",
        "kdd_label_df_indexed = pipeln_1.fit(kdd_label_df).transform(kdd_label_df)\n",
        "\n",
        "\n",
        "data_encoders = [OneHotEncoder(inputCol=col+\"_index\",outputCol= col+\"_encoded\").fit(kdd_label_df_indexed) for col in [\"service\",\"flag\",\"protocol_type\"] ]\n",
        "\n",
        "\n",
        "pipeln_2 = Pipeline(stages=data_encoders)\n",
        "kdd_label_df_encoded = pipeln_2.fit(kdd_label_df_indexed).transform(kdd_label_df_indexed)\n",
        "\n",
        "vec_assembler = VectorAssembler(inputCols=[\"duration\",\"src_bytes\",\"dst_bytes\",\"protocol_type_encoded\", \"service_encoded\",\"flag_encoded\"], outputCol=\"features\")\n",
        "kdd_label_df_encoded_features = vec_assembler.transform(kdd_label_df_encoded)\n",
        "\n",
        "\n",
        "# prepare label data and convert to numeric\n",
        "\n",
        "label_indexer = StringIndexer(inputCol=\"new_label\", outputCol=\"new_label_indexed\")\n",
        "kdd_label_df_encoded_features_labels =label_indexer.fit(kdd_label_df_encoded_features).transform(kdd_label_df_encoded_features)\n",
        "kdd_label_df_encoded_features_labels = kdd_label_df_encoded_features_labels.select(\"features\", \"new_label_indexed\")"
      ],
      "metadata": {
        "application/vnd.databricks.v1+cell": {
          "title": "",
          "showTitle": false,
          "inputWidgets": {},
          "nuid": "e3a7050d-f60c-46ce-9ef2-ce2783f5dac7"
        },
        "id": "sA5Rx6sEpZkN",
        "outputId": "5618b20c-80ce-413f-ec4c-05c4f3109d31"
      },
      "outputs": [
        {
          "output_type": "display_data",
          "metadata": {
            "application/vnd.databricks.v1+output": {
              "datasetInfos": [
                {
                  "name": "kdd_label_df_indexed",
                  "typeStr": "pyspark.sql.dataframe.DataFrame",
                  "schema": {
                    "fields": [
                      {
                        "metadata": {},
                        "name": "duration",
                        "nullable": true,
                        "type": "double"
                      },
                      {
                        "metadata": {},
                        "name": "protocol_type",
                        "nullable": true,
                        "type": "string"
                      },
                      {
                        "metadata": {},
                        "name": "service",
                        "nullable": true,
                        "type": "string"
                      },
                      {
                        "metadata": {},
                        "name": "flag",
                        "nullable": true,
                        "type": "string"
                      },
                      {
                        "metadata": {},
                        "name": "src_bytes",
                        "nullable": true,
                        "type": "integer"
                      },
                      {
                        "metadata": {},
                        "name": "dst_bytes",
                        "nullable": true,
                        "type": "integer"
                      },
                      {
                        "metadata": {},
                        "name": "label",
                        "nullable": true,
                        "type": "string"
                      },
                      {
                        "metadata": {},
                        "name": "new_label",
                        "nullable": true,
                        "type": "string"
                      },
                      {
                        "metadata": {
                          "ml_attr": {
                            "name": "service_index",
                            "type": "nominal",
                            "vals": [
                              "ecr_i",
                              "private",
                              "http",
                              "smtp",
                              "other",
                              "domain_u",
                              "ftp_data",
                              "eco_i",
                              "ftp",
                              "finger",
                              "urp_i",
                              "telnet",
                              "ntp_u",
                              "auth",
                              "pop_3",
                              "time",
                              "csnet_ns",
                              "remote_job",
                              "gopher",
                              "imap4",
                              "discard",
                              "domain",
                              "iso_tsap",
                              "systat",
                              "echo",
                              "shell",
                              "rje",
                              "sql_net",
                              "whois",
                              "printer",
                              "courier",
                              "nntp",
                              "mtp",
                              "netbios_ssn",
                              "sunrpc",
                              "bgp",
                              "klogin",
                              "uucp",
                              "uucp_path",
                              "vmnet",
                              "nnsp",
                              "ssh",
                              "supdup",
                              "hostnames",
                              "login",
                              "daytime",
                              "efs",
                              "link",
                              "netbios_ns",
                              "ldap",
                              "pop_2",
                              "exec",
                              "http_443",
                              "netbios_dgm",
                              "kshell",
                              "name",
                              "ctf",
                              "netstat",
                              "Z39_50",
                              "IRC",
                              "urh_i",
                              "X11",
                              "tim_i",
                              "pm_dump",
                              "red_i",
                              "tftp_u"
                            ]
                          }
                        },
                        "name": "service_index",
                        "nullable": false,
                        "type": "double"
                      },
                      {
                        "metadata": {
                          "ml_attr": {
                            "name": "flag_index",
                            "type": "nominal",
                            "vals": [
                              "SF",
                              "S0",
                              "REJ",
                              "RSTR",
                              "RSTO",
                              "SH",
                              "S1",
                              "S2",
                              "RSTOS0",
                              "S3",
                              "OTH"
                            ]
                          }
                        },
                        "name": "flag_index",
                        "nullable": false,
                        "type": "double"
                      },
                      {
                        "metadata": {
                          "ml_attr": {
                            "name": "protocol_type_index",
                            "type": "nominal",
                            "vals": [
                              "icmp",
                              "tcp",
                              "udp"
                            ]
                          }
                        },
                        "name": "protocol_type_index",
                        "nullable": false,
                        "type": "double"
                      }
                    ],
                    "type": "struct"
                  },
                  "tableIdentifier": null
                },
                {
                  "name": "kdd_label_df_encoded",
                  "typeStr": "pyspark.sql.dataframe.DataFrame",
                  "schema": {
                    "fields": [
                      {
                        "metadata": {},
                        "name": "duration",
                        "nullable": true,
                        "type": "double"
                      },
                      {
                        "metadata": {},
                        "name": "protocol_type",
                        "nullable": true,
                        "type": "string"
                      },
                      {
                        "metadata": {},
                        "name": "service",
                        "nullable": true,
                        "type": "string"
                      },
                      {
                        "metadata": {},
                        "name": "flag",
                        "nullable": true,
                        "type": "string"
                      },
                      {
                        "metadata": {},
                        "name": "src_bytes",
                        "nullable": true,
                        "type": "integer"
                      },
                      {
                        "metadata": {},
                        "name": "dst_bytes",
                        "nullable": true,
                        "type": "integer"
                      },
                      {
                        "metadata": {},
                        "name": "label",
                        "nullable": true,
                        "type": "string"
                      },
                      {
                        "metadata": {},
                        "name": "new_label",
                        "nullable": true,
                        "type": "string"
                      },
                      {
                        "metadata": {
                          "ml_attr": {
                            "name": "service_index",
                            "type": "nominal",
                            "vals": [
                              "ecr_i",
                              "private",
                              "http",
                              "smtp",
                              "other",
                              "domain_u",
                              "ftp_data",
                              "eco_i",
                              "ftp",
                              "finger",
                              "urp_i",
                              "telnet",
                              "ntp_u",
                              "auth",
                              "pop_3",
                              "time",
                              "csnet_ns",
                              "remote_job",
                              "gopher",
                              "imap4",
                              "discard",
                              "domain",
                              "iso_tsap",
                              "systat",
                              "echo",
                              "shell",
                              "rje",
                              "sql_net",
                              "whois",
                              "printer",
                              "courier",
                              "nntp",
                              "mtp",
                              "netbios_ssn",
                              "sunrpc",
                              "bgp",
                              "klogin",
                              "uucp",
                              "uucp_path",
                              "vmnet",
                              "nnsp",
                              "ssh",
                              "supdup",
                              "hostnames",
                              "login",
                              "daytime",
                              "efs",
                              "link",
                              "netbios_ns",
                              "ldap",
                              "pop_2",
                              "exec",
                              "http_443",
                              "netbios_dgm",
                              "kshell",
                              "name",
                              "ctf",
                              "netstat",
                              "Z39_50",
                              "IRC",
                              "urh_i",
                              "X11",
                              "tim_i",
                              "pm_dump",
                              "red_i",
                              "tftp_u"
                            ]
                          }
                        },
                        "name": "service_index",
                        "nullable": false,
                        "type": "double"
                      },
                      {
                        "metadata": {
                          "ml_attr": {
                            "name": "flag_index",
                            "type": "nominal",
                            "vals": [
                              "SF",
                              "S0",
                              "REJ",
                              "RSTR",
                              "RSTO",
                              "SH",
                              "S1",
                              "S2",
                              "RSTOS0",
                              "S3",
                              "OTH"
                            ]
                          }
                        },
                        "name": "flag_index",
                        "nullable": false,
                        "type": "double"
                      },
                      {
                        "metadata": {
                          "ml_attr": {
                            "name": "protocol_type_index",
                            "type": "nominal",
                            "vals": [
                              "icmp",
                              "tcp",
                              "udp"
                            ]
                          }
                        },
                        "name": "protocol_type_index",
                        "nullable": false,
                        "type": "double"
                      },
                      {
                        "metadata": {
                          "ml_attr": {
                            "attrs": {
                              "binary": [
                                {
                                  "idx": 0,
                                  "name": "ecr_i"
                                },
                                {
                                  "idx": 1,
                                  "name": "private"
                                },
                                {
                                  "idx": 2,
                                  "name": "http"
                                },
                                {
                                  "idx": 3,
                                  "name": "smtp"
                                },
                                {
                                  "idx": 4,
                                  "name": "other"
                                },
                                {
                                  "idx": 5,
                                  "name": "domain_u"
                                },
                                {
                                  "idx": 6,
                                  "name": "ftp_data"
                                },
                                {
                                  "idx": 7,
                                  "name": "eco_i"
                                },
                                {
                                  "idx": 8,
                                  "name": "ftp"
                                },
                                {
                                  "idx": 9,
                                  "name": "finger"
                                },
                                {
                                  "idx": 10,
                                  "name": "urp_i"
                                },
                                {
                                  "idx": 11,
                                  "name": "telnet"
                                },
                                {
                                  "idx": 12,
                                  "name": "ntp_u"
                                },
                                {
                                  "idx": 13,
                                  "name": "auth"
                                },
                                {
                                  "idx": 14,
                                  "name": "pop_3"
                                },
                                {
                                  "idx": 15,
                                  "name": "time"
                                },
                                {
                                  "idx": 16,
                                  "name": "csnet_ns"
                                },
                                {
                                  "idx": 17,
                                  "name": "remote_job"
                                },
                                {
                                  "idx": 18,
                                  "name": "gopher"
                                },
                                {
                                  "idx": 19,
                                  "name": "imap4"
                                },
                                {
                                  "idx": 20,
                                  "name": "discard"
                                },
                                {
                                  "idx": 21,
                                  "name": "domain"
                                },
                                {
                                  "idx": 22,
                                  "name": "iso_tsap"
                                },
                                {
                                  "idx": 23,
                                  "name": "systat"
                                },
                                {
                                  "idx": 24,
                                  "name": "echo"
                                },
                                {
                                  "idx": 25,
                                  "name": "shell"
                                },
                                {
                                  "idx": 26,
                                  "name": "rje"
                                },
                                {
                                  "idx": 27,
                                  "name": "sql_net"
                                },
                                {
                                  "idx": 28,
                                  "name": "whois"
                                },
                                {
                                  "idx": 29,
                                  "name": "printer"
                                },
                                {
                                  "idx": 30,
                                  "name": "courier"
                                },
                                {
                                  "idx": 31,
                                  "name": "nntp"
                                },
                                {
                                  "idx": 32,
                                  "name": "mtp"
                                },
                                {
                                  "idx": 33,
                                  "name": "netbios_ssn"
                                },
                                {
                                  "idx": 34,
                                  "name": "sunrpc"
                                },
                                {
                                  "idx": 35,
                                  "name": "bgp"
                                },
                                {
                                  "idx": 36,
                                  "name": "klogin"
                                },
                                {
                                  "idx": 37,
                                  "name": "uucp"
                                },
                                {
                                  "idx": 38,
                                  "name": "uucp_path"
                                },
                                {
                                  "idx": 39,
                                  "name": "vmnet"
                                },
                                {
                                  "idx": 40,
                                  "name": "nnsp"
                                },
                                {
                                  "idx": 41,
                                  "name": "ssh"
                                },
                                {
                                  "idx": 42,
                                  "name": "supdup"
                                },
                                {
                                  "idx": 43,
                                  "name": "hostnames"
                                },
                                {
                                  "idx": 44,
                                  "name": "login"
                                },
                                {
                                  "idx": 45,
                                  "name": "daytime"
                                },
                                {
                                  "idx": 46,
                                  "name": "efs"
                                },
                                {
                                  "idx": 47,
                                  "name": "link"
                                },
                                {
                                  "idx": 48,
                                  "name": "netbios_ns"
                                },
                                {
                                  "idx": 49,
                                  "name": "ldap"
                                },
                                {
                                  "idx": 50,
                                  "name": "pop_2"
                                },
                                {
                                  "idx": 51,
                                  "name": "exec"
                                },
                                {
                                  "idx": 52,
                                  "name": "http_443"
                                },
                                {
                                  "idx": 53,
                                  "name": "netbios_dgm"
                                },
                                {
                                  "idx": 54,
                                  "name": "kshell"
                                },
                                {
                                  "idx": 55,
                                  "name": "name"
                                },
                                {
                                  "idx": 56,
                                  "name": "ctf"
                                },
                                {
                                  "idx": 57,
                                  "name": "netstat"
                                },
                                {
                                  "idx": 58,
                                  "name": "Z39_50"
                                },
                                {
                                  "idx": 59,
                                  "name": "IRC"
                                },
                                {
                                  "idx": 60,
                                  "name": "urh_i"
                                },
                                {
                                  "idx": 61,
                                  "name": "X11"
                                },
                                {
                                  "idx": 62,
                                  "name": "tim_i"
                                },
                                {
                                  "idx": 63,
                                  "name": "pm_dump"
                                },
                                {
                                  "idx": 64,
                                  "name": "red_i"
                                }
                              ]
                            },
                            "num_attrs": 65
                          }
                        },
                        "name": "service_encoded",
                        "nullable": true,
                        "type": {
                          "class": "org.apache.spark.ml.linalg.VectorUDT",
                          "pyClass": "pyspark.ml.linalg.VectorUDT",
                          "sqlType": {
                            "fields": [
                              {
                                "metadata": {},
                                "name": "type",
                                "nullable": false,
                                "type": "byte"
                              },
                              {
                                "metadata": {},
                                "name": "size",
                                "nullable": true,
                                "type": "integer"
                              },
                              {
                                "metadata": {},
                                "name": "indices",
                                "nullable": true,
                                "type": {
                                  "containsNull": false,
                                  "elementType": "integer",
                                  "type": "array"
                                }
                              },
                              {
                                "metadata": {},
                                "name": "values",
                                "nullable": true,
                                "type": {
                                  "containsNull": false,
                                  "elementType": "double",
                                  "type": "array"
                                }
                              }
                            ],
                            "type": "struct"
                          },
                          "type": "udt"
                        }
                      },
                      {
                        "metadata": {
                          "ml_attr": {
                            "attrs": {
                              "binary": [
                                {
                                  "idx": 0,
                                  "name": "SF"
                                },
                                {
                                  "idx": 1,
                                  "name": "S0"
                                },
                                {
                                  "idx": 2,
                                  "name": "REJ"
                                },
                                {
                                  "idx": 3,
                                  "name": "RSTR"
                                },
                                {
                                  "idx": 4,
                                  "name": "RSTO"
                                },
                                {
                                  "idx": 5,
                                  "name": "SH"
                                },
                                {
                                  "idx": 6,
                                  "name": "S1"
                                },
                                {
                                  "idx": 7,
                                  "name": "S2"
                                },
                                {
                                  "idx": 8,
                                  "name": "RSTOS0"
                                },
                                {
                                  "idx": 9,
                                  "name": "S3"
                                }
                              ]
                            },
                            "num_attrs": 10
                          }
                        },
                        "name": "flag_encoded",
                        "nullable": true,
                        "type": {
                          "class": "org.apache.spark.ml.linalg.VectorUDT",
                          "pyClass": "pyspark.ml.linalg.VectorUDT",
                          "sqlType": {
                            "fields": [
                              {
                                "metadata": {},
                                "name": "type",
                                "nullable": false,
                                "type": "byte"
                              },
                              {
                                "metadata": {},
                                "name": "size",
                                "nullable": true,
                                "type": "integer"
                              },
                              {
                                "metadata": {},
                                "name": "indices",
                                "nullable": true,
                                "type": {
                                  "containsNull": false,
                                  "elementType": "integer",
                                  "type": "array"
                                }
                              },
                              {
                                "metadata": {},
                                "name": "values",
                                "nullable": true,
                                "type": {
                                  "containsNull": false,
                                  "elementType": "double",
                                  "type": "array"
                                }
                              }
                            ],
                            "type": "struct"
                          },
                          "type": "udt"
                        }
                      },
                      {
                        "metadata": {
                          "ml_attr": {
                            "attrs": {
                              "binary": [
                                {
                                  "idx": 0,
                                  "name": "icmp"
                                },
                                {
                                  "idx": 1,
                                  "name": "tcp"
                                }
                              ]
                            },
                            "num_attrs": 2
                          }
                        },
                        "name": "protocol_type_encoded",
                        "nullable": true,
                        "type": {
                          "class": "org.apache.spark.ml.linalg.VectorUDT",
                          "pyClass": "pyspark.ml.linalg.VectorUDT",
                          "sqlType": {
                            "fields": [
                              {
                                "metadata": {},
                                "name": "type",
                                "nullable": false,
                                "type": "byte"
                              },
                              {
                                "metadata": {},
                                "name": "size",
                                "nullable": true,
                                "type": "integer"
                              },
                              {
                                "metadata": {},
                                "name": "indices",
                                "nullable": true,
                                "type": {
                                  "containsNull": false,
                                  "elementType": "integer",
                                  "type": "array"
                                }
                              },
                              {
                                "metadata": {},
                                "name": "values",
                                "nullable": true,
                                "type": {
                                  "containsNull": false,
                                  "elementType": "double",
                                  "type": "array"
                                }
                              }
                            ],
                            "type": "struct"
                          },
                          "type": "udt"
                        }
                      }
                    ],
                    "type": "struct"
                  },
                  "tableIdentifier": null
                },
                {
                  "name": "kdd_label_df_encoded_features",
                  "typeStr": "pyspark.sql.dataframe.DataFrame",
                  "schema": {
                    "fields": [
                      {
                        "metadata": {},
                        "name": "duration",
                        "nullable": true,
                        "type": "double"
                      },
                      {
                        "metadata": {},
                        "name": "protocol_type",
                        "nullable": true,
                        "type": "string"
                      },
                      {
                        "metadata": {},
                        "name": "service",
                        "nullable": true,
                        "type": "string"
                      },
                      {
                        "metadata": {},
                        "name": "flag",
                        "nullable": true,
                        "type": "string"
                      },
                      {
                        "metadata": {},
                        "name": "src_bytes",
                        "nullable": true,
                        "type": "integer"
                      },
                      {
                        "metadata": {},
                        "name": "dst_bytes",
                        "nullable": true,
                        "type": "integer"
                      },
                      {
                        "metadata": {},
                        "name": "label",
                        "nullable": true,
                        "type": "string"
                      },
                      {
                        "metadata": {},
                        "name": "new_label",
                        "nullable": true,
                        "type": "string"
                      },
                      {
                        "metadata": {
                          "ml_attr": {
                            "name": "service_index",
                            "type": "nominal",
                            "vals": [
                              "ecr_i",
                              "private",
                              "http",
                              "smtp",
                              "other",
                              "domain_u",
                              "ftp_data",
                              "eco_i",
                              "ftp",
                              "finger",
                              "urp_i",
                              "telnet",
                              "ntp_u",
                              "auth",
                              "pop_3",
                              "time",
                              "csnet_ns",
                              "remote_job",
                              "gopher",
                              "imap4",
                              "discard",
                              "domain",
                              "iso_tsap",
                              "systat",
                              "echo",
                              "shell",
                              "rje",
                              "sql_net",
                              "whois",
                              "printer",
                              "courier",
                              "nntp",
                              "mtp",
                              "netbios_ssn",
                              "sunrpc",
                              "bgp",
                              "klogin",
                              "uucp",
                              "uucp_path",
                              "vmnet",
                              "nnsp",
                              "ssh",
                              "supdup",
                              "hostnames",
                              "login",
                              "daytime",
                              "efs",
                              "link",
                              "netbios_ns",
                              "ldap",
                              "pop_2",
                              "exec",
                              "http_443",
                              "netbios_dgm",
                              "kshell",
                              "name",
                              "ctf",
                              "netstat",
                              "Z39_50",
                              "IRC",
                              "urh_i",
                              "X11",
                              "tim_i",
                              "pm_dump",
                              "red_i",
                              "tftp_u"
                            ]
                          }
                        },
                        "name": "service_index",
                        "nullable": false,
                        "type": "double"
                      },
                      {
                        "metadata": {
                          "ml_attr": {
                            "name": "flag_index",
                            "type": "nominal",
                            "vals": [
                              "SF",
                              "S0",
                              "REJ",
                              "RSTR",
                              "RSTO",
                              "SH",
                              "S1",
                              "S2",
                              "RSTOS0",
                              "S3",
                              "OTH"
                            ]
                          }
                        },
                        "name": "flag_index",
                        "nullable": false,
                        "type": "double"
                      },
                      {
                        "metadata": {
                          "ml_attr": {
                            "name": "protocol_type_index",
                            "type": "nominal",
                            "vals": [
                              "icmp",
                              "tcp",
                              "udp"
                            ]
                          }
                        },
                        "name": "protocol_type_index",
                        "nullable": false,
                        "type": "double"
                      },
                      {
                        "metadata": {
                          "ml_attr": {
                            "attrs": {
                              "binary": [
                                {
                                  "idx": 0,
                                  "name": "ecr_i"
                                },
                                {
                                  "idx": 1,
                                  "name": "private"
                                },
                                {
                                  "idx": 2,
                                  "name": "http"
                                },
                                {
                                  "idx": 3,
                                  "name": "smtp"
                                },
                                {
                                  "idx": 4,
                                  "name": "other"
                                },
                                {
                                  "idx": 5,
                                  "name": "domain_u"
                                },
                                {
                                  "idx": 6,
                                  "name": "ftp_data"
                                },
                                {
                                  "idx": 7,
                                  "name": "eco_i"
                                },
                                {
                                  "idx": 8,
                                  "name": "ftp"
                                },
                                {
                                  "idx": 9,
                                  "name": "finger"
                                },
                                {
                                  "idx": 10,
                                  "name": "urp_i"
                                },
                                {
                                  "idx": 11,
                                  "name": "telnet"
                                },
                                {
                                  "idx": 12,
                                  "name": "ntp_u"
                                },
                                {
                                  "idx": 13,
                                  "name": "auth"
                                },
                                {
                                  "idx": 14,
                                  "name": "pop_3"
                                },
                                {
                                  "idx": 15,
                                  "name": "time"
                                },
                                {
                                  "idx": 16,
                                  "name": "csnet_ns"
                                },
                                {
                                  "idx": 17,
                                  "name": "remote_job"
                                },
                                {
                                  "idx": 18,
                                  "name": "gopher"
                                },
                                {
                                  "idx": 19,
                                  "name": "imap4"
                                },
                                {
                                  "idx": 20,
                                  "name": "discard"
                                },
                                {
                                  "idx": 21,
                                  "name": "domain"
                                },
                                {
                                  "idx": 22,
                                  "name": "iso_tsap"
                                },
                                {
                                  "idx": 23,
                                  "name": "systat"
                                },
                                {
                                  "idx": 24,
                                  "name": "echo"
                                },
                                {
                                  "idx": 25,
                                  "name": "shell"
                                },
                                {
                                  "idx": 26,
                                  "name": "rje"
                                },
                                {
                                  "idx": 27,
                                  "name": "sql_net"
                                },
                                {
                                  "idx": 28,
                                  "name": "whois"
                                },
                                {
                                  "idx": 29,
                                  "name": "printer"
                                },
                                {
                                  "idx": 30,
                                  "name": "courier"
                                },
                                {
                                  "idx": 31,
                                  "name": "nntp"
                                },
                                {
                                  "idx": 32,
                                  "name": "mtp"
                                },
                                {
                                  "idx": 33,
                                  "name": "netbios_ssn"
                                },
                                {
                                  "idx": 34,
                                  "name": "sunrpc"
                                },
                                {
                                  "idx": 35,
                                  "name": "bgp"
                                },
                                {
                                  "idx": 36,
                                  "name": "klogin"
                                },
                                {
                                  "idx": 37,
                                  "name": "uucp"
                                },
                                {
                                  "idx": 38,
                                  "name": "uucp_path"
                                },
                                {
                                  "idx": 39,
                                  "name": "vmnet"
                                },
                                {
                                  "idx": 40,
                                  "name": "nnsp"
                                },
                                {
                                  "idx": 41,
                                  "name": "ssh"
                                },
                                {
                                  "idx": 42,
                                  "name": "supdup"
                                },
                                {
                                  "idx": 43,
                                  "name": "hostnames"
                                },
                                {
                                  "idx": 44,
                                  "name": "login"
                                },
                                {
                                  "idx": 45,
                                  "name": "daytime"
                                },
                                {
                                  "idx": 46,
                                  "name": "efs"
                                },
                                {
                                  "idx": 47,
                                  "name": "link"
                                },
                                {
                                  "idx": 48,
                                  "name": "netbios_ns"
                                },
                                {
                                  "idx": 49,
                                  "name": "ldap"
                                },
                                {
                                  "idx": 50,
                                  "name": "pop_2"
                                },
                                {
                                  "idx": 51,
                                  "name": "exec"
                                },
                                {
                                  "idx": 52,
                                  "name": "http_443"
                                },
                                {
                                  "idx": 53,
                                  "name": "netbios_dgm"
                                },
                                {
                                  "idx": 54,
                                  "name": "kshell"
                                },
                                {
                                  "idx": 55,
                                  "name": "name"
                                },
                                {
                                  "idx": 56,
                                  "name": "ctf"
                                },
                                {
                                  "idx": 57,
                                  "name": "netstat"
                                },
                                {
                                  "idx": 58,
                                  "name": "Z39_50"
                                },
                                {
                                  "idx": 59,
                                  "name": "IRC"
                                },
                                {
                                  "idx": 60,
                                  "name": "urh_i"
                                },
                                {
                                  "idx": 61,
                                  "name": "X11"
                                },
                                {
                                  "idx": 62,
                                  "name": "tim_i"
                                },
                                {
                                  "idx": 63,
                                  "name": "pm_dump"
                                },
                                {
                                  "idx": 64,
                                  "name": "red_i"
                                }
                              ]
                            },
                            "num_attrs": 65
                          }
                        },
                        "name": "service_encoded",
                        "nullable": true,
                        "type": {
                          "class": "org.apache.spark.ml.linalg.VectorUDT",
                          "pyClass": "pyspark.ml.linalg.VectorUDT",
                          "sqlType": {
                            "fields": [
                              {
                                "metadata": {},
                                "name": "type",
                                "nullable": false,
                                "type": "byte"
                              },
                              {
                                "metadata": {},
                                "name": "size",
                                "nullable": true,
                                "type": "integer"
                              },
                              {
                                "metadata": {},
                                "name": "indices",
                                "nullable": true,
                                "type": {
                                  "containsNull": false,
                                  "elementType": "integer",
                                  "type": "array"
                                }
                              },
                              {
                                "metadata": {},
                                "name": "values",
                                "nullable": true,
                                "type": {
                                  "containsNull": false,
                                  "elementType": "double",
                                  "type": "array"
                                }
                              }
                            ],
                            "type": "struct"
                          },
                          "type": "udt"
                        }
                      },
                      {
                        "metadata": {
                          "ml_attr": {
                            "attrs": {
                              "binary": [
                                {
                                  "idx": 0,
                                  "name": "SF"
                                },
                                {
                                  "idx": 1,
                                  "name": "S0"
                                },
                                {
                                  "idx": 2,
                                  "name": "REJ"
                                },
                                {
                                  "idx": 3,
                                  "name": "RSTR"
                                },
                                {
                                  "idx": 4,
                                  "name": "RSTO"
                                },
                                {
                                  "idx": 5,
                                  "name": "SH"
                                },
                                {
                                  "idx": 6,
                                  "name": "S1"
                                },
                                {
                                  "idx": 7,
                                  "name": "S2"
                                },
                                {
                                  "idx": 8,
                                  "name": "RSTOS0"
                                },
                                {
                                  "idx": 9,
                                  "name": "S3"
                                }
                              ]
                            },
                            "num_attrs": 10
                          }
                        },
                        "name": "flag_encoded",
                        "nullable": true,
                        "type": {
                          "class": "org.apache.spark.ml.linalg.VectorUDT",
                          "pyClass": "pyspark.ml.linalg.VectorUDT",
                          "sqlType": {
                            "fields": [
                              {
                                "metadata": {},
                                "name": "type",
                                "nullable": false,
                                "type": "byte"
                              },
                              {
                                "metadata": {},
                                "name": "size",
                                "nullable": true,
                                "type": "integer"
                              },
                              {
                                "metadata": {},
                                "name": "indices",
                                "nullable": true,
                                "type": {
                                  "containsNull": false,
                                  "elementType": "integer",
                                  "type": "array"
                                }
                              },
                              {
                                "metadata": {},
                                "name": "values",
                                "nullable": true,
                                "type": {
                                  "containsNull": false,
                                  "elementType": "double",
                                  "type": "array"
                                }
                              }
                            ],
                            "type": "struct"
                          },
                          "type": "udt"
                        }
                      },
                      {
                        "metadata": {
                          "ml_attr": {
                            "attrs": {
                              "binary": [
                                {
                                  "idx": 0,
                                  "name": "icmp"
                                },
                                {
                                  "idx": 1,
                                  "name": "tcp"
                                }
                              ]
                            },
                            "num_attrs": 2
                          }
                        },
                        "name": "protocol_type_encoded",
                        "nullable": true,
                        "type": {
                          "class": "org.apache.spark.ml.linalg.VectorUDT",
                          "pyClass": "pyspark.ml.linalg.VectorUDT",
                          "sqlType": {
                            "fields": [
                              {
                                "metadata": {},
                                "name": "type",
                                "nullable": false,
                                "type": "byte"
                              },
                              {
                                "metadata": {},
                                "name": "size",
                                "nullable": true,
                                "type": "integer"
                              },
                              {
                                "metadata": {},
                                "name": "indices",
                                "nullable": true,
                                "type": {
                                  "containsNull": false,
                                  "elementType": "integer",
                                  "type": "array"
                                }
                              },
                              {
                                "metadata": {},
                                "name": "values",
                                "nullable": true,
                                "type": {
                                  "containsNull": false,
                                  "elementType": "double",
                                  "type": "array"
                                }
                              }
                            ],
                            "type": "struct"
                          },
                          "type": "udt"
                        }
                      },
                      {
                        "metadata": {
                          "ml_attr": {
                            "attrs": {
                              "binary": [
                                {
                                  "idx": 3,
                                  "name": "protocol_type_encoded_icmp"
                                },
                                {
                                  "idx": 4,
                                  "name": "protocol_type_encoded_tcp"
                                },
                                {
                                  "idx": 5,
                                  "name": "service_encoded_ecr_i"
                                },
                                {
                                  "idx": 6,
                                  "name": "service_encoded_private"
                                },
                                {
                                  "idx": 7,
                                  "name": "service_encoded_http"
                                },
                                {
                                  "idx": 8,
                                  "name": "service_encoded_smtp"
                                },
                                {
                                  "idx": 9,
                                  "name": "service_encoded_other"
                                },
                                {
                                  "idx": 10,
                                  "name": "service_encoded_domain_u"
                                },
                                {
                                  "idx": 11,
                                  "name": "service_encoded_ftp_data"
                                },
                                {
                                  "idx": 12,
                                  "name": "service_encoded_eco_i"
                                },
                                {
                                  "idx": 13,
                                  "name": "service_encoded_ftp"
                                },
                                {
                                  "idx": 14,
                                  "name": "service_encoded_finger"
                                },
                                {
                                  "idx": 15,
                                  "name": "service_encoded_urp_i"
                                },
                                {
                                  "idx": 16,
                                  "name": "service_encoded_telnet"
                                },
                                {
                                  "idx": 17,
                                  "name": "service_encoded_ntp_u"
                                },
                                {
                                  "idx": 18,
                                  "name": "service_encoded_auth"
                                },
                                {
                                  "idx": 19,
                                  "name": "service_encoded_pop_3"
                                },
                                {
                                  "idx": 20,
                                  "name": "service_encoded_time"
                                },
                                {
                                  "idx": 21,
                                  "name": "service_encoded_csnet_ns"
                                },
                                {
                                  "idx": 22,
                                  "name": "service_encoded_remote_job"
                                },
                                {
                                  "idx": 23,
                                  "name": "service_encoded_gopher"
                                },
                                {
                                  "idx": 24,
                                  "name": "service_encoded_imap4"
                                },
                                {
                                  "idx": 25,
                                  "name": "service_encoded_discard"
                                },
                                {
                                  "idx": 26,
                                  "name": "service_encoded_domain"
                                },
                                {
                                  "idx": 27,
                                  "name": "service_encoded_iso_tsap"
                                },
                                {
                                  "idx": 28,
                                  "name": "service_encoded_systat"
                                },
                                {
                                  "idx": 29,
                                  "name": "service_encoded_echo"
                                },
                                {
                                  "idx": 30,
                                  "name": "service_encoded_shell"
                                },
                                {
                                  "idx": 31,
                                  "name": "service_encoded_rje"
                                },
                                {
                                  "idx": 32,
                                  "name": "service_encoded_sql_net"
                                },
                                {
                                  "idx": 33,
                                  "name": "service_encoded_whois"
                                },
                                {
                                  "idx": 34,
                                  "name": "service_encoded_printer"
                                },
                                {
                                  "idx": 35,
                                  "name": "service_encoded_courier"
                                },
                                {
                                  "idx": 36,
                                  "name": "service_encoded_nntp"
                                },
                                {
                                  "idx": 37,
                                  "name": "service_encoded_mtp"
                                },
                                {
                                  "idx": 38,
                                  "name": "service_encoded_netbios_ssn"
                                },
                                {
                                  "idx": 39,
                                  "name": "service_encoded_sunrpc"
                                },
                                {
                                  "idx": 40,
                                  "name": "service_encoded_bgp"
                                },
                                {
                                  "idx": 41,
                                  "name": "service_encoded_klogin"
                                },
                                {
                                  "idx": 42,
                                  "name": "service_encoded_uucp"
                                },
                                {
                                  "idx": 43,
                                  "name": "service_encoded_uucp_path"
                                },
                                {
                                  "idx": 44,
                                  "name": "service_encoded_vmnet"
                                },
                                {
                                  "idx": 45,
                                  "name": "service_encoded_nnsp"
                                },
                                {
                                  "idx": 46,
                                  "name": "service_encoded_ssh"
                                },
                                {
                                  "idx": 47,
                                  "name": "service_encoded_supdup"
                                },
                                {
                                  "idx": 48,
                                  "name": "service_encoded_hostnames"
                                },
                                {
                                  "idx": 49,
                                  "name": "service_encoded_login"
                                },
                                {
                                  "idx": 50,
                                  "name": "service_encoded_daytime"
                                },
                                {
                                  "idx": 51,
                                  "name": "service_encoded_efs"
                                },
                                {
                                  "idx": 52,
                                  "name": "service_encoded_link"
                                },
                                {
                                  "idx": 53,
                                  "name": "service_encoded_netbios_ns"
                                },
                                {
                                  "idx": 54,
                                  "name": "service_encoded_ldap"
                                },
                                {
                                  "idx": 55,
                                  "name": "service_encoded_pop_2"
                                },
                                {
                                  "idx": 56,
                                  "name": "service_encoded_exec"
                                },
                                {
                                  "idx": 57,
                                  "name": "service_encoded_http_443"
                                },
                                {
                                  "idx": 58,
                                  "name": "service_encoded_netbios_dgm"
                                },
                                {
                                  "idx": 59,
                                  "name": "service_encoded_kshell"
                                },
                                {
                                  "idx": 60,
                                  "name": "service_encoded_name"
                                },
                                {
                                  "idx": 61,
                                  "name": "service_encoded_ctf"
                                },
                                {
                                  "idx": 62,
                                  "name": "service_encoded_netstat"
                                },
                                {
                                  "idx": 63,
                                  "name": "service_encoded_Z39_50"
                                },
                                {
                                  "idx": 64,
                                  "name": "service_encoded_IRC"
                                },
                                {
                                  "idx": 65,
                                  "name": "service_encoded_urh_i"
                                },
                                {
                                  "idx": 66,
                                  "name": "service_encoded_X11"
                                },
                                {
                                  "idx": 67,
                                  "name": "service_encoded_tim_i"
                                },
                                {
                                  "idx": 68,
                                  "name": "service_encoded_pm_dump"
                                },
                                {
                                  "idx": 69,
                                  "name": "service_encoded_red_i"
                                },
                                {
                                  "idx": 70,
                                  "name": "flag_encoded_SF"
                                },
                                {
                                  "idx": 71,
                                  "name": "flag_encoded_S0"
                                },
                                {
                                  "idx": 72,
                                  "name": "flag_encoded_REJ"
                                },
                                {
                                  "idx": 73,
                                  "name": "flag_encoded_RSTR"
                                },
                                {
                                  "idx": 74,
                                  "name": "flag_encoded_RSTO"
                                },
                                {
                                  "idx": 75,
                                  "name": "flag_encoded_SH"
                                },
                                {
                                  "idx": 76,
                                  "name": "flag_encoded_S1"
                                },
                                {
                                  "idx": 77,
                                  "name": "flag_encoded_S2"
                                },
                                {
                                  "idx": 78,
                                  "name": "flag_encoded_RSTOS0"
                                },
                                {
                                  "idx": 79,
                                  "name": "flag_encoded_S3"
                                }
                              ],
                              "numeric": [
                                {
                                  "idx": 0,
                                  "name": "duration"
                                },
                                {
                                  "idx": 1,
                                  "name": "src_bytes"
                                },
                                {
                                  "idx": 2,
                                  "name": "dst_bytes"
                                }
                              ]
                            },
                            "num_attrs": 80
                          }
                        },
                        "name": "features",
                        "nullable": true,
                        "type": {
                          "class": "org.apache.spark.ml.linalg.VectorUDT",
                          "pyClass": "pyspark.ml.linalg.VectorUDT",
                          "sqlType": {
                            "fields": [
                              {
                                "metadata": {},
                                "name": "type",
                                "nullable": false,
                                "type": "byte"
                              },
                              {
                                "metadata": {},
                                "name": "size",
                                "nullable": true,
                                "type": "integer"
                              },
                              {
                                "metadata": {},
                                "name": "indices",
                                "nullable": true,
                                "type": {
                                  "containsNull": false,
                                  "elementType": "integer",
                                  "type": "array"
                                }
                              },
                              {
                                "metadata": {},
                                "name": "values",
                                "nullable": true,
                                "type": {
                                  "containsNull": false,
                                  "elementType": "double",
                                  "type": "array"
                                }
                              }
                            ],
                            "type": "struct"
                          },
                          "type": "udt"
                        }
                      }
                    ],
                    "type": "struct"
                  },
                  "tableIdentifier": null
                },
                {
                  "name": "kdd_label_df_encoded_features_labels",
                  "typeStr": "pyspark.sql.dataframe.DataFrame",
                  "schema": {
                    "fields": [
                      {
                        "metadata": {
                          "ml_attr": {
                            "attrs": {
                              "binary": [
                                {
                                  "idx": 3,
                                  "name": "protocol_type_encoded_icmp"
                                },
                                {
                                  "idx": 4,
                                  "name": "protocol_type_encoded_tcp"
                                },
                                {
                                  "idx": 5,
                                  "name": "service_encoded_ecr_i"
                                },
                                {
                                  "idx": 6,
                                  "name": "service_encoded_private"
                                },
                                {
                                  "idx": 7,
                                  "name": "service_encoded_http"
                                },
                                {
                                  "idx": 8,
                                  "name": "service_encoded_smtp"
                                },
                                {
                                  "idx": 9,
                                  "name": "service_encoded_other"
                                },
                                {
                                  "idx": 10,
                                  "name": "service_encoded_domain_u"
                                },
                                {
                                  "idx": 11,
                                  "name": "service_encoded_ftp_data"
                                },
                                {
                                  "idx": 12,
                                  "name": "service_encoded_eco_i"
                                },
                                {
                                  "idx": 13,
                                  "name": "service_encoded_ftp"
                                },
                                {
                                  "idx": 14,
                                  "name": "service_encoded_finger"
                                },
                                {
                                  "idx": 15,
                                  "name": "service_encoded_urp_i"
                                },
                                {
                                  "idx": 16,
                                  "name": "service_encoded_telnet"
                                },
                                {
                                  "idx": 17,
                                  "name": "service_encoded_ntp_u"
                                },
                                {
                                  "idx": 18,
                                  "name": "service_encoded_auth"
                                },
                                {
                                  "idx": 19,
                                  "name": "service_encoded_pop_3"
                                },
                                {
                                  "idx": 20,
                                  "name": "service_encoded_time"
                                },
                                {
                                  "idx": 21,
                                  "name": "service_encoded_csnet_ns"
                                },
                                {
                                  "idx": 22,
                                  "name": "service_encoded_remote_job"
                                },
                                {
                                  "idx": 23,
                                  "name": "service_encoded_gopher"
                                },
                                {
                                  "idx": 24,
                                  "name": "service_encoded_imap4"
                                },
                                {
                                  "idx": 25,
                                  "name": "service_encoded_discard"
                                },
                                {
                                  "idx": 26,
                                  "name": "service_encoded_domain"
                                },
                                {
                                  "idx": 27,
                                  "name": "service_encoded_iso_tsap"
                                },
                                {
                                  "idx": 28,
                                  "name": "service_encoded_systat"
                                },
                                {
                                  "idx": 29,
                                  "name": "service_encoded_echo"
                                },
                                {
                                  "idx": 30,
                                  "name": "service_encoded_shell"
                                },
                                {
                                  "idx": 31,
                                  "name": "service_encoded_rje"
                                },
                                {
                                  "idx": 32,
                                  "name": "service_encoded_sql_net"
                                },
                                {
                                  "idx": 33,
                                  "name": "service_encoded_whois"
                                },
                                {
                                  "idx": 34,
                                  "name": "service_encoded_printer"
                                },
                                {
                                  "idx": 35,
                                  "name": "service_encoded_courier"
                                },
                                {
                                  "idx": 36,
                                  "name": "service_encoded_nntp"
                                },
                                {
                                  "idx": 37,
                                  "name": "service_encoded_mtp"
                                },
                                {
                                  "idx": 38,
                                  "name": "service_encoded_netbios_ssn"
                                },
                                {
                                  "idx": 39,
                                  "name": "service_encoded_sunrpc"
                                },
                                {
                                  "idx": 40,
                                  "name": "service_encoded_bgp"
                                },
                                {
                                  "idx": 41,
                                  "name": "service_encoded_klogin"
                                },
                                {
                                  "idx": 42,
                                  "name": "service_encoded_uucp"
                                },
                                {
                                  "idx": 43,
                                  "name": "service_encoded_uucp_path"
                                },
                                {
                                  "idx": 44,
                                  "name": "service_encoded_vmnet"
                                },
                                {
                                  "idx": 45,
                                  "name": "service_encoded_nnsp"
                                },
                                {
                                  "idx": 46,
                                  "name": "service_encoded_ssh"
                                },
                                {
                                  "idx": 47,
                                  "name": "service_encoded_supdup"
                                },
                                {
                                  "idx": 48,
                                  "name": "service_encoded_hostnames"
                                },
                                {
                                  "idx": 49,
                                  "name": "service_encoded_login"
                                },
                                {
                                  "idx": 50,
                                  "name": "service_encoded_daytime"
                                },
                                {
                                  "idx": 51,
                                  "name": "service_encoded_efs"
                                },
                                {
                                  "idx": 52,
                                  "name": "service_encoded_link"
                                },
                                {
                                  "idx": 53,
                                  "name": "service_encoded_netbios_ns"
                                },
                                {
                                  "idx": 54,
                                  "name": "service_encoded_ldap"
                                },
                                {
                                  "idx": 55,
                                  "name": "service_encoded_pop_2"
                                },
                                {
                                  "idx": 56,
                                  "name": "service_encoded_exec"
                                },
                                {
                                  "idx": 57,
                                  "name": "service_encoded_http_443"
                                },
                                {
                                  "idx": 58,
                                  "name": "service_encoded_netbios_dgm"
                                },
                                {
                                  "idx": 59,
                                  "name": "service_encoded_kshell"
                                },
                                {
                                  "idx": 60,
                                  "name": "service_encoded_name"
                                },
                                {
                                  "idx": 61,
                                  "name": "service_encoded_ctf"
                                },
                                {
                                  "idx": 62,
                                  "name": "service_encoded_netstat"
                                },
                                {
                                  "idx": 63,
                                  "name": "service_encoded_Z39_50"
                                },
                                {
                                  "idx": 64,
                                  "name": "service_encoded_IRC"
                                },
                                {
                                  "idx": 65,
                                  "name": "service_encoded_urh_i"
                                },
                                {
                                  "idx": 66,
                                  "name": "service_encoded_X11"
                                },
                                {
                                  "idx": 67,
                                  "name": "service_encoded_tim_i"
                                },
                                {
                                  "idx": 68,
                                  "name": "service_encoded_pm_dump"
                                },
                                {
                                  "idx": 69,
                                  "name": "service_encoded_red_i"
                                },
                                {
                                  "idx": 70,
                                  "name": "flag_encoded_SF"
                                },
                                {
                                  "idx": 71,
                                  "name": "flag_encoded_S0"
                                },
                                {
                                  "idx": 72,
                                  "name": "flag_encoded_REJ"
                                },
                                {
                                  "idx": 73,
                                  "name": "flag_encoded_RSTR"
                                },
                                {
                                  "idx": 74,
                                  "name": "flag_encoded_RSTO"
                                },
                                {
                                  "idx": 75,
                                  "name": "flag_encoded_SH"
                                },
                                {
                                  "idx": 76,
                                  "name": "flag_encoded_S1"
                                },
                                {
                                  "idx": 77,
                                  "name": "flag_encoded_S2"
                                },
                                {
                                  "idx": 78,
                                  "name": "flag_encoded_RSTOS0"
                                },
                                {
                                  "idx": 79,
                                  "name": "flag_encoded_S3"
                                }
                              ],
                              "numeric": [
                                {
                                  "idx": 0,
                                  "name": "duration"
                                },
                                {
                                  "idx": 1,
                                  "name": "src_bytes"
                                },
                                {
                                  "idx": 2,
                                  "name": "dst_bytes"
                                }
                              ]
                            },
                            "num_attrs": 80
                          }
                        },
                        "name": "features",
                        "nullable": true,
                        "type": {
                          "class": "org.apache.spark.ml.linalg.VectorUDT",
                          "pyClass": "pyspark.ml.linalg.VectorUDT",
                          "sqlType": {
                            "fields": [
                              {
                                "metadata": {},
                                "name": "type",
                                "nullable": false,
                                "type": "byte"
                              },
                              {
                                "metadata": {},
                                "name": "size",
                                "nullable": true,
                                "type": "integer"
                              },
                              {
                                "metadata": {},
                                "name": "indices",
                                "nullable": true,
                                "type": {
                                  "containsNull": false,
                                  "elementType": "integer",
                                  "type": "array"
                                }
                              },
                              {
                                "metadata": {},
                                "name": "values",
                                "nullable": true,
                                "type": {
                                  "containsNull": false,
                                  "elementType": "double",
                                  "type": "array"
                                }
                              }
                            ],
                            "type": "struct"
                          },
                          "type": "udt"
                        }
                      },
                      {
                        "metadata": {
                          "ml_attr": {
                            "name": "new_label_indexed",
                            "type": "nominal",
                            "vals": [
                              "attack",
                              "normal"
                            ]
                          }
                        },
                        "name": "new_label_indexed",
                        "nullable": false,
                        "type": "double"
                      }
                    ],
                    "type": "struct"
                  },
                  "tableIdentifier": null
                }
              ],
              "data": "<div class=\"ansiout\"></div>",
              "removedWidgets": [],
              "addedWidgets": {},
              "metadata": {},
              "type": "html",
              "arguments": {}
            }
          },
          "data": {
            "text/html": [
              "<style scoped>\n  .ansiout {\n    display: block;\n    unicode-bidi: embed;\n    white-space: pre-wrap;\n    word-wrap: break-word;\n    word-break: break-all;\n    font-family: \"Source Code Pro\", \"Menlo\", monospace;;\n    font-size: 13px;\n    color: #555;\n    margin-left: 4px;\n    line-height: 19px;\n  }\n</style>\n<div class=\"ansiout\"></div>"
            ]
          }
        }
      ],
      "execution_count": null
    },
    {
      "cell_type": "code",
      "source": [
        "# split data 80-20\n",
        "\n",
        "split = kdd_label_df_encoded_features_labels.randomSplit([0.8,0.2], 10)\n",
        "train = split[0]\n",
        "test = split[1]"
      ],
      "metadata": {
        "application/vnd.databricks.v1+cell": {
          "title": "",
          "showTitle": false,
          "inputWidgets": {},
          "nuid": "8120393c-8258-4fd7-900e-e4c39907c958"
        },
        "id": "3AircPevpZkN",
        "outputId": "0297cee5-734d-45de-8642-c3c1b279e6b2"
      },
      "outputs": [
        {
          "output_type": "display_data",
          "metadata": {
            "application/vnd.databricks.v1+output": {
              "datasetInfos": [
                {
                  "name": "train",
                  "typeStr": "pyspark.sql.dataframe.DataFrame",
                  "schema": {
                    "fields": [
                      {
                        "metadata": {
                          "ml_attr": {
                            "attrs": {
                              "binary": [
                                {
                                  "idx": 3,
                                  "name": "protocol_type_encoded_icmp"
                                },
                                {
                                  "idx": 4,
                                  "name": "protocol_type_encoded_tcp"
                                },
                                {
                                  "idx": 5,
                                  "name": "service_encoded_ecr_i"
                                },
                                {
                                  "idx": 6,
                                  "name": "service_encoded_private"
                                },
                                {
                                  "idx": 7,
                                  "name": "service_encoded_http"
                                },
                                {
                                  "idx": 8,
                                  "name": "service_encoded_smtp"
                                },
                                {
                                  "idx": 9,
                                  "name": "service_encoded_other"
                                },
                                {
                                  "idx": 10,
                                  "name": "service_encoded_domain_u"
                                },
                                {
                                  "idx": 11,
                                  "name": "service_encoded_ftp_data"
                                },
                                {
                                  "idx": 12,
                                  "name": "service_encoded_eco_i"
                                },
                                {
                                  "idx": 13,
                                  "name": "service_encoded_ftp"
                                },
                                {
                                  "idx": 14,
                                  "name": "service_encoded_finger"
                                },
                                {
                                  "idx": 15,
                                  "name": "service_encoded_urp_i"
                                },
                                {
                                  "idx": 16,
                                  "name": "service_encoded_telnet"
                                },
                                {
                                  "idx": 17,
                                  "name": "service_encoded_ntp_u"
                                },
                                {
                                  "idx": 18,
                                  "name": "service_encoded_auth"
                                },
                                {
                                  "idx": 19,
                                  "name": "service_encoded_pop_3"
                                },
                                {
                                  "idx": 20,
                                  "name": "service_encoded_time"
                                },
                                {
                                  "idx": 21,
                                  "name": "service_encoded_csnet_ns"
                                },
                                {
                                  "idx": 22,
                                  "name": "service_encoded_remote_job"
                                },
                                {
                                  "idx": 23,
                                  "name": "service_encoded_gopher"
                                },
                                {
                                  "idx": 24,
                                  "name": "service_encoded_imap4"
                                },
                                {
                                  "idx": 25,
                                  "name": "service_encoded_discard"
                                },
                                {
                                  "idx": 26,
                                  "name": "service_encoded_domain"
                                },
                                {
                                  "idx": 27,
                                  "name": "service_encoded_iso_tsap"
                                },
                                {
                                  "idx": 28,
                                  "name": "service_encoded_systat"
                                },
                                {
                                  "idx": 29,
                                  "name": "service_encoded_echo"
                                },
                                {
                                  "idx": 30,
                                  "name": "service_encoded_shell"
                                },
                                {
                                  "idx": 31,
                                  "name": "service_encoded_rje"
                                },
                                {
                                  "idx": 32,
                                  "name": "service_encoded_sql_net"
                                },
                                {
                                  "idx": 33,
                                  "name": "service_encoded_whois"
                                },
                                {
                                  "idx": 34,
                                  "name": "service_encoded_printer"
                                },
                                {
                                  "idx": 35,
                                  "name": "service_encoded_courier"
                                },
                                {
                                  "idx": 36,
                                  "name": "service_encoded_nntp"
                                },
                                {
                                  "idx": 37,
                                  "name": "service_encoded_mtp"
                                },
                                {
                                  "idx": 38,
                                  "name": "service_encoded_netbios_ssn"
                                },
                                {
                                  "idx": 39,
                                  "name": "service_encoded_sunrpc"
                                },
                                {
                                  "idx": 40,
                                  "name": "service_encoded_bgp"
                                },
                                {
                                  "idx": 41,
                                  "name": "service_encoded_klogin"
                                },
                                {
                                  "idx": 42,
                                  "name": "service_encoded_uucp"
                                },
                                {
                                  "idx": 43,
                                  "name": "service_encoded_uucp_path"
                                },
                                {
                                  "idx": 44,
                                  "name": "service_encoded_vmnet"
                                },
                                {
                                  "idx": 45,
                                  "name": "service_encoded_nnsp"
                                },
                                {
                                  "idx": 46,
                                  "name": "service_encoded_ssh"
                                },
                                {
                                  "idx": 47,
                                  "name": "service_encoded_supdup"
                                },
                                {
                                  "idx": 48,
                                  "name": "service_encoded_hostnames"
                                },
                                {
                                  "idx": 49,
                                  "name": "service_encoded_login"
                                },
                                {
                                  "idx": 50,
                                  "name": "service_encoded_daytime"
                                },
                                {
                                  "idx": 51,
                                  "name": "service_encoded_efs"
                                },
                                {
                                  "idx": 52,
                                  "name": "service_encoded_link"
                                },
                                {
                                  "idx": 53,
                                  "name": "service_encoded_netbios_ns"
                                },
                                {
                                  "idx": 54,
                                  "name": "service_encoded_ldap"
                                },
                                {
                                  "idx": 55,
                                  "name": "service_encoded_pop_2"
                                },
                                {
                                  "idx": 56,
                                  "name": "service_encoded_exec"
                                },
                                {
                                  "idx": 57,
                                  "name": "service_encoded_http_443"
                                },
                                {
                                  "idx": 58,
                                  "name": "service_encoded_netbios_dgm"
                                },
                                {
                                  "idx": 59,
                                  "name": "service_encoded_kshell"
                                },
                                {
                                  "idx": 60,
                                  "name": "service_encoded_name"
                                },
                                {
                                  "idx": 61,
                                  "name": "service_encoded_ctf"
                                },
                                {
                                  "idx": 62,
                                  "name": "service_encoded_netstat"
                                },
                                {
                                  "idx": 63,
                                  "name": "service_encoded_Z39_50"
                                },
                                {
                                  "idx": 64,
                                  "name": "service_encoded_IRC"
                                },
                                {
                                  "idx": 65,
                                  "name": "service_encoded_urh_i"
                                },
                                {
                                  "idx": 66,
                                  "name": "service_encoded_X11"
                                },
                                {
                                  "idx": 67,
                                  "name": "service_encoded_tim_i"
                                },
                                {
                                  "idx": 68,
                                  "name": "service_encoded_pm_dump"
                                },
                                {
                                  "idx": 69,
                                  "name": "service_encoded_red_i"
                                },
                                {
                                  "idx": 70,
                                  "name": "flag_encoded_SF"
                                },
                                {
                                  "idx": 71,
                                  "name": "flag_encoded_S0"
                                },
                                {
                                  "idx": 72,
                                  "name": "flag_encoded_REJ"
                                },
                                {
                                  "idx": 73,
                                  "name": "flag_encoded_RSTR"
                                },
                                {
                                  "idx": 74,
                                  "name": "flag_encoded_RSTO"
                                },
                                {
                                  "idx": 75,
                                  "name": "flag_encoded_SH"
                                },
                                {
                                  "idx": 76,
                                  "name": "flag_encoded_S1"
                                },
                                {
                                  "idx": 77,
                                  "name": "flag_encoded_S2"
                                },
                                {
                                  "idx": 78,
                                  "name": "flag_encoded_RSTOS0"
                                },
                                {
                                  "idx": 79,
                                  "name": "flag_encoded_S3"
                                }
                              ],
                              "numeric": [
                                {
                                  "idx": 0,
                                  "name": "duration"
                                },
                                {
                                  "idx": 1,
                                  "name": "src_bytes"
                                },
                                {
                                  "idx": 2,
                                  "name": "dst_bytes"
                                }
                              ]
                            },
                            "num_attrs": 80
                          }
                        },
                        "name": "features",
                        "nullable": true,
                        "type": {
                          "class": "org.apache.spark.ml.linalg.VectorUDT",
                          "pyClass": "pyspark.ml.linalg.VectorUDT",
                          "sqlType": {
                            "fields": [
                              {
                                "metadata": {},
                                "name": "type",
                                "nullable": false,
                                "type": "byte"
                              },
                              {
                                "metadata": {},
                                "name": "size",
                                "nullable": true,
                                "type": "integer"
                              },
                              {
                                "metadata": {},
                                "name": "indices",
                                "nullable": true,
                                "type": {
                                  "containsNull": false,
                                  "elementType": "integer",
                                  "type": "array"
                                }
                              },
                              {
                                "metadata": {},
                                "name": "values",
                                "nullable": true,
                                "type": {
                                  "containsNull": false,
                                  "elementType": "double",
                                  "type": "array"
                                }
                              }
                            ],
                            "type": "struct"
                          },
                          "type": "udt"
                        }
                      },
                      {
                        "metadata": {
                          "ml_attr": {
                            "name": "new_label_indexed",
                            "type": "nominal",
                            "vals": [
                              "attack",
                              "normal"
                            ]
                          }
                        },
                        "name": "new_label_indexed",
                        "nullable": false,
                        "type": "double"
                      }
                    ],
                    "type": "struct"
                  },
                  "tableIdentifier": null
                },
                {
                  "name": "test",
                  "typeStr": "pyspark.sql.dataframe.DataFrame",
                  "schema": {
                    "fields": [
                      {
                        "metadata": {
                          "ml_attr": {
                            "attrs": {
                              "binary": [
                                {
                                  "idx": 3,
                                  "name": "protocol_type_encoded_icmp"
                                },
                                {
                                  "idx": 4,
                                  "name": "protocol_type_encoded_tcp"
                                },
                                {
                                  "idx": 5,
                                  "name": "service_encoded_ecr_i"
                                },
                                {
                                  "idx": 6,
                                  "name": "service_encoded_private"
                                },
                                {
                                  "idx": 7,
                                  "name": "service_encoded_http"
                                },
                                {
                                  "idx": 8,
                                  "name": "service_encoded_smtp"
                                },
                                {
                                  "idx": 9,
                                  "name": "service_encoded_other"
                                },
                                {
                                  "idx": 10,
                                  "name": "service_encoded_domain_u"
                                },
                                {
                                  "idx": 11,
                                  "name": "service_encoded_ftp_data"
                                },
                                {
                                  "idx": 12,
                                  "name": "service_encoded_eco_i"
                                },
                                {
                                  "idx": 13,
                                  "name": "service_encoded_ftp"
                                },
                                {
                                  "idx": 14,
                                  "name": "service_encoded_finger"
                                },
                                {
                                  "idx": 15,
                                  "name": "service_encoded_urp_i"
                                },
                                {
                                  "idx": 16,
                                  "name": "service_encoded_telnet"
                                },
                                {
                                  "idx": 17,
                                  "name": "service_encoded_ntp_u"
                                },
                                {
                                  "idx": 18,
                                  "name": "service_encoded_auth"
                                },
                                {
                                  "idx": 19,
                                  "name": "service_encoded_pop_3"
                                },
                                {
                                  "idx": 20,
                                  "name": "service_encoded_time"
                                },
                                {
                                  "idx": 21,
                                  "name": "service_encoded_csnet_ns"
                                },
                                {
                                  "idx": 22,
                                  "name": "service_encoded_remote_job"
                                },
                                {
                                  "idx": 23,
                                  "name": "service_encoded_gopher"
                                },
                                {
                                  "idx": 24,
                                  "name": "service_encoded_imap4"
                                },
                                {
                                  "idx": 25,
                                  "name": "service_encoded_discard"
                                },
                                {
                                  "idx": 26,
                                  "name": "service_encoded_domain"
                                },
                                {
                                  "idx": 27,
                                  "name": "service_encoded_iso_tsap"
                                },
                                {
                                  "idx": 28,
                                  "name": "service_encoded_systat"
                                },
                                {
                                  "idx": 29,
                                  "name": "service_encoded_echo"
                                },
                                {
                                  "idx": 30,
                                  "name": "service_encoded_shell"
                                },
                                {
                                  "idx": 31,
                                  "name": "service_encoded_rje"
                                },
                                {
                                  "idx": 32,
                                  "name": "service_encoded_sql_net"
                                },
                                {
                                  "idx": 33,
                                  "name": "service_encoded_whois"
                                },
                                {
                                  "idx": 34,
                                  "name": "service_encoded_printer"
                                },
                                {
                                  "idx": 35,
                                  "name": "service_encoded_courier"
                                },
                                {
                                  "idx": 36,
                                  "name": "service_encoded_nntp"
                                },
                                {
                                  "idx": 37,
                                  "name": "service_encoded_mtp"
                                },
                                {
                                  "idx": 38,
                                  "name": "service_encoded_netbios_ssn"
                                },
                                {
                                  "idx": 39,
                                  "name": "service_encoded_sunrpc"
                                },
                                {
                                  "idx": 40,
                                  "name": "service_encoded_bgp"
                                },
                                {
                                  "idx": 41,
                                  "name": "service_encoded_klogin"
                                },
                                {
                                  "idx": 42,
                                  "name": "service_encoded_uucp"
                                },
                                {
                                  "idx": 43,
                                  "name": "service_encoded_uucp_path"
                                },
                                {
                                  "idx": 44,
                                  "name": "service_encoded_vmnet"
                                },
                                {
                                  "idx": 45,
                                  "name": "service_encoded_nnsp"
                                },
                                {
                                  "idx": 46,
                                  "name": "service_encoded_ssh"
                                },
                                {
                                  "idx": 47,
                                  "name": "service_encoded_supdup"
                                },
                                {
                                  "idx": 48,
                                  "name": "service_encoded_hostnames"
                                },
                                {
                                  "idx": 49,
                                  "name": "service_encoded_login"
                                },
                                {
                                  "idx": 50,
                                  "name": "service_encoded_daytime"
                                },
                                {
                                  "idx": 51,
                                  "name": "service_encoded_efs"
                                },
                                {
                                  "idx": 52,
                                  "name": "service_encoded_link"
                                },
                                {
                                  "idx": 53,
                                  "name": "service_encoded_netbios_ns"
                                },
                                {
                                  "idx": 54,
                                  "name": "service_encoded_ldap"
                                },
                                {
                                  "idx": 55,
                                  "name": "service_encoded_pop_2"
                                },
                                {
                                  "idx": 56,
                                  "name": "service_encoded_exec"
                                },
                                {
                                  "idx": 57,
                                  "name": "service_encoded_http_443"
                                },
                                {
                                  "idx": 58,
                                  "name": "service_encoded_netbios_dgm"
                                },
                                {
                                  "idx": 59,
                                  "name": "service_encoded_kshell"
                                },
                                {
                                  "idx": 60,
                                  "name": "service_encoded_name"
                                },
                                {
                                  "idx": 61,
                                  "name": "service_encoded_ctf"
                                },
                                {
                                  "idx": 62,
                                  "name": "service_encoded_netstat"
                                },
                                {
                                  "idx": 63,
                                  "name": "service_encoded_Z39_50"
                                },
                                {
                                  "idx": 64,
                                  "name": "service_encoded_IRC"
                                },
                                {
                                  "idx": 65,
                                  "name": "service_encoded_urh_i"
                                },
                                {
                                  "idx": 66,
                                  "name": "service_encoded_X11"
                                },
                                {
                                  "idx": 67,
                                  "name": "service_encoded_tim_i"
                                },
                                {
                                  "idx": 68,
                                  "name": "service_encoded_pm_dump"
                                },
                                {
                                  "idx": 69,
                                  "name": "service_encoded_red_i"
                                },
                                {
                                  "idx": 70,
                                  "name": "flag_encoded_SF"
                                },
                                {
                                  "idx": 71,
                                  "name": "flag_encoded_S0"
                                },
                                {
                                  "idx": 72,
                                  "name": "flag_encoded_REJ"
                                },
                                {
                                  "idx": 73,
                                  "name": "flag_encoded_RSTR"
                                },
                                {
                                  "idx": 74,
                                  "name": "flag_encoded_RSTO"
                                },
                                {
                                  "idx": 75,
                                  "name": "flag_encoded_SH"
                                },
                                {
                                  "idx": 76,
                                  "name": "flag_encoded_S1"
                                },
                                {
                                  "idx": 77,
                                  "name": "flag_encoded_S2"
                                },
                                {
                                  "idx": 78,
                                  "name": "flag_encoded_RSTOS0"
                                },
                                {
                                  "idx": 79,
                                  "name": "flag_encoded_S3"
                                }
                              ],
                              "numeric": [
                                {
                                  "idx": 0,
                                  "name": "duration"
                                },
                                {
                                  "idx": 1,
                                  "name": "src_bytes"
                                },
                                {
                                  "idx": 2,
                                  "name": "dst_bytes"
                                }
                              ]
                            },
                            "num_attrs": 80
                          }
                        },
                        "name": "features",
                        "nullable": true,
                        "type": {
                          "class": "org.apache.spark.ml.linalg.VectorUDT",
                          "pyClass": "pyspark.ml.linalg.VectorUDT",
                          "sqlType": {
                            "fields": [
                              {
                                "metadata": {},
                                "name": "type",
                                "nullable": false,
                                "type": "byte"
                              },
                              {
                                "metadata": {},
                                "name": "size",
                                "nullable": true,
                                "type": "integer"
                              },
                              {
                                "metadata": {},
                                "name": "indices",
                                "nullable": true,
                                "type": {
                                  "containsNull": false,
                                  "elementType": "integer",
                                  "type": "array"
                                }
                              },
                              {
                                "metadata": {},
                                "name": "values",
                                "nullable": true,
                                "type": {
                                  "containsNull": false,
                                  "elementType": "double",
                                  "type": "array"
                                }
                              }
                            ],
                            "type": "struct"
                          },
                          "type": "udt"
                        }
                      },
                      {
                        "metadata": {
                          "ml_attr": {
                            "name": "new_label_indexed",
                            "type": "nominal",
                            "vals": [
                              "attack",
                              "normal"
                            ]
                          }
                        },
                        "name": "new_label_indexed",
                        "nullable": false,
                        "type": "double"
                      }
                    ],
                    "type": "struct"
                  },
                  "tableIdentifier": null
                }
              ],
              "data": "<div class=\"ansiout\"></div>",
              "removedWidgets": [],
              "addedWidgets": {},
              "metadata": {},
              "type": "html",
              "arguments": {}
            }
          },
          "data": {
            "text/html": [
              "<style scoped>\n  .ansiout {\n    display: block;\n    unicode-bidi: embed;\n    white-space: pre-wrap;\n    word-wrap: break-word;\n    word-break: break-all;\n    font-family: \"Source Code Pro\", \"Menlo\", monospace;;\n    font-size: 13px;\n    color: #555;\n    margin-left: 4px;\n    line-height: 19px;\n  }\n</style>\n<div class=\"ansiout\"></div>"
            ]
          }
        }
      ],
      "execution_count": null
    },
    {
      "cell_type": "code",
      "source": [
        "# Build model and fit it to training data\n",
        "nb = NaiveBayes(labelCol=\"new_label_indexed\")\n",
        "model = nb.fit(train)"
      ],
      "metadata": {
        "application/vnd.databricks.v1+cell": {
          "title": "",
          "showTitle": false,
          "inputWidgets": {},
          "nuid": "1881289b-b2de-45f6-a21b-767632698931"
        },
        "id": "wqqUwZPapZkN",
        "outputId": "07664ab0-88bd-46b5-88ed-3c8c160fe2a2"
      },
      "outputs": [
        {
          "output_type": "display_data",
          "metadata": {
            "application/vnd.databricks.v1+output": {
              "datasetInfos": [],
              "data": "<div class=\"ansiout\"></div>",
              "removedWidgets": [],
              "addedWidgets": {},
              "metadata": {},
              "type": "html",
              "arguments": {}
            }
          },
          "data": {
            "text/html": [
              "<style scoped>\n  .ansiout {\n    display: block;\n    unicode-bidi: embed;\n    white-space: pre-wrap;\n    word-wrap: break-word;\n    word-break: break-all;\n    font-family: \"Source Code Pro\", \"Menlo\", monospace;;\n    font-size: 13px;\n    color: #555;\n    margin-left: 4px;\n    line-height: 19px;\n  }\n</style>\n<div class=\"ansiout\"></div>"
            ]
          }
        }
      ],
      "execution_count": null
    },
    {
      "cell_type": "code",
      "source": [
        "#predictions on test data\n",
        "pred = model.transform(test)\n",
        "pred.show()"
      ],
      "metadata": {
        "application/vnd.databricks.v1+cell": {
          "title": "",
          "showTitle": false,
          "inputWidgets": {},
          "nuid": "cd198fa2-97cf-46d5-babd-9e2f5503d64c"
        },
        "id": "w-BJqVp-pZkN",
        "outputId": "9516cddc-1a02-40ce-883d-1c7674978d9d"
      },
      "outputs": [
        {
          "output_type": "display_data",
          "metadata": {
            "application/vnd.databricks.v1+output": {
              "datasetInfos": [
                {
                  "name": "pred",
                  "typeStr": "pyspark.sql.dataframe.DataFrame",
                  "schema": {
                    "fields": [
                      {
                        "metadata": {
                          "ml_attr": {
                            "attrs": {
                              "binary": [
                                {
                                  "idx": 3,
                                  "name": "protocol_type_encoded_icmp"
                                },
                                {
                                  "idx": 4,
                                  "name": "protocol_type_encoded_tcp"
                                },
                                {
                                  "idx": 5,
                                  "name": "service_encoded_ecr_i"
                                },
                                {
                                  "idx": 6,
                                  "name": "service_encoded_private"
                                },
                                {
                                  "idx": 7,
                                  "name": "service_encoded_http"
                                },
                                {
                                  "idx": 8,
                                  "name": "service_encoded_smtp"
                                },
                                {
                                  "idx": 9,
                                  "name": "service_encoded_other"
                                },
                                {
                                  "idx": 10,
                                  "name": "service_encoded_domain_u"
                                },
                                {
                                  "idx": 11,
                                  "name": "service_encoded_ftp_data"
                                },
                                {
                                  "idx": 12,
                                  "name": "service_encoded_eco_i"
                                },
                                {
                                  "idx": 13,
                                  "name": "service_encoded_ftp"
                                },
                                {
                                  "idx": 14,
                                  "name": "service_encoded_finger"
                                },
                                {
                                  "idx": 15,
                                  "name": "service_encoded_urp_i"
                                },
                                {
                                  "idx": 16,
                                  "name": "service_encoded_telnet"
                                },
                                {
                                  "idx": 17,
                                  "name": "service_encoded_ntp_u"
                                },
                                {
                                  "idx": 18,
                                  "name": "service_encoded_auth"
                                },
                                {
                                  "idx": 19,
                                  "name": "service_encoded_pop_3"
                                },
                                {
                                  "idx": 20,
                                  "name": "service_encoded_time"
                                },
                                {
                                  "idx": 21,
                                  "name": "service_encoded_csnet_ns"
                                },
                                {
                                  "idx": 22,
                                  "name": "service_encoded_remote_job"
                                },
                                {
                                  "idx": 23,
                                  "name": "service_encoded_gopher"
                                },
                                {
                                  "idx": 24,
                                  "name": "service_encoded_imap4"
                                },
                                {
                                  "idx": 25,
                                  "name": "service_encoded_discard"
                                },
                                {
                                  "idx": 26,
                                  "name": "service_encoded_domain"
                                },
                                {
                                  "idx": 27,
                                  "name": "service_encoded_iso_tsap"
                                },
                                {
                                  "idx": 28,
                                  "name": "service_encoded_systat"
                                },
                                {
                                  "idx": 29,
                                  "name": "service_encoded_echo"
                                },
                                {
                                  "idx": 30,
                                  "name": "service_encoded_shell"
                                },
                                {
                                  "idx": 31,
                                  "name": "service_encoded_rje"
                                },
                                {
                                  "idx": 32,
                                  "name": "service_encoded_sql_net"
                                },
                                {
                                  "idx": 33,
                                  "name": "service_encoded_whois"
                                },
                                {
                                  "idx": 34,
                                  "name": "service_encoded_printer"
                                },
                                {
                                  "idx": 35,
                                  "name": "service_encoded_courier"
                                },
                                {
                                  "idx": 36,
                                  "name": "service_encoded_nntp"
                                },
                                {
                                  "idx": 37,
                                  "name": "service_encoded_mtp"
                                },
                                {
                                  "idx": 38,
                                  "name": "service_encoded_netbios_ssn"
                                },
                                {
                                  "idx": 39,
                                  "name": "service_encoded_sunrpc"
                                },
                                {
                                  "idx": 40,
                                  "name": "service_encoded_bgp"
                                },
                                {
                                  "idx": 41,
                                  "name": "service_encoded_klogin"
                                },
                                {
                                  "idx": 42,
                                  "name": "service_encoded_uucp"
                                },
                                {
                                  "idx": 43,
                                  "name": "service_encoded_uucp_path"
                                },
                                {
                                  "idx": 44,
                                  "name": "service_encoded_vmnet"
                                },
                                {
                                  "idx": 45,
                                  "name": "service_encoded_nnsp"
                                },
                                {
                                  "idx": 46,
                                  "name": "service_encoded_ssh"
                                },
                                {
                                  "idx": 47,
                                  "name": "service_encoded_supdup"
                                },
                                {
                                  "idx": 48,
                                  "name": "service_encoded_hostnames"
                                },
                                {
                                  "idx": 49,
                                  "name": "service_encoded_login"
                                },
                                {
                                  "idx": 50,
                                  "name": "service_encoded_daytime"
                                },
                                {
                                  "idx": 51,
                                  "name": "service_encoded_efs"
                                },
                                {
                                  "idx": 52,
                                  "name": "service_encoded_link"
                                },
                                {
                                  "idx": 53,
                                  "name": "service_encoded_netbios_ns"
                                },
                                {
                                  "idx": 54,
                                  "name": "service_encoded_ldap"
                                },
                                {
                                  "idx": 55,
                                  "name": "service_encoded_pop_2"
                                },
                                {
                                  "idx": 56,
                                  "name": "service_encoded_exec"
                                },
                                {
                                  "idx": 57,
                                  "name": "service_encoded_http_443"
                                },
                                {
                                  "idx": 58,
                                  "name": "service_encoded_netbios_dgm"
                                },
                                {
                                  "idx": 59,
                                  "name": "service_encoded_kshell"
                                },
                                {
                                  "idx": 60,
                                  "name": "service_encoded_name"
                                },
                                {
                                  "idx": 61,
                                  "name": "service_encoded_ctf"
                                },
                                {
                                  "idx": 62,
                                  "name": "service_encoded_netstat"
                                },
                                {
                                  "idx": 63,
                                  "name": "service_encoded_Z39_50"
                                },
                                {
                                  "idx": 64,
                                  "name": "service_encoded_IRC"
                                },
                                {
                                  "idx": 65,
                                  "name": "service_encoded_urh_i"
                                },
                                {
                                  "idx": 66,
                                  "name": "service_encoded_X11"
                                },
                                {
                                  "idx": 67,
                                  "name": "service_encoded_tim_i"
                                },
                                {
                                  "idx": 68,
                                  "name": "service_encoded_pm_dump"
                                },
                                {
                                  "idx": 69,
                                  "name": "service_encoded_red_i"
                                },
                                {
                                  "idx": 70,
                                  "name": "flag_encoded_SF"
                                },
                                {
                                  "idx": 71,
                                  "name": "flag_encoded_S0"
                                },
                                {
                                  "idx": 72,
                                  "name": "flag_encoded_REJ"
                                },
                                {
                                  "idx": 73,
                                  "name": "flag_encoded_RSTR"
                                },
                                {
                                  "idx": 74,
                                  "name": "flag_encoded_RSTO"
                                },
                                {
                                  "idx": 75,
                                  "name": "flag_encoded_SH"
                                },
                                {
                                  "idx": 76,
                                  "name": "flag_encoded_S1"
                                },
                                {
                                  "idx": 77,
                                  "name": "flag_encoded_S2"
                                },
                                {
                                  "idx": 78,
                                  "name": "flag_encoded_RSTOS0"
                                },
                                {
                                  "idx": 79,
                                  "name": "flag_encoded_S3"
                                }
                              ],
                              "numeric": [
                                {
                                  "idx": 0,
                                  "name": "duration"
                                },
                                {
                                  "idx": 1,
                                  "name": "src_bytes"
                                },
                                {
                                  "idx": 2,
                                  "name": "dst_bytes"
                                }
                              ]
                            },
                            "num_attrs": 80
                          }
                        },
                        "name": "features",
                        "nullable": true,
                        "type": {
                          "class": "org.apache.spark.ml.linalg.VectorUDT",
                          "pyClass": "pyspark.ml.linalg.VectorUDT",
                          "sqlType": {
                            "fields": [
                              {
                                "metadata": {},
                                "name": "type",
                                "nullable": false,
                                "type": "byte"
                              },
                              {
                                "metadata": {},
                                "name": "size",
                                "nullable": true,
                                "type": "integer"
                              },
                              {
                                "metadata": {},
                                "name": "indices",
                                "nullable": true,
                                "type": {
                                  "containsNull": false,
                                  "elementType": "integer",
                                  "type": "array"
                                }
                              },
                              {
                                "metadata": {},
                                "name": "values",
                                "nullable": true,
                                "type": {
                                  "containsNull": false,
                                  "elementType": "double",
                                  "type": "array"
                                }
                              }
                            ],
                            "type": "struct"
                          },
                          "type": "udt"
                        }
                      },
                      {
                        "metadata": {
                          "ml_attr": {
                            "name": "new_label_indexed",
                            "type": "nominal",
                            "vals": [
                              "attack",
                              "normal"
                            ]
                          }
                        },
                        "name": "new_label_indexed",
                        "nullable": false,
                        "type": "double"
                      },
                      {
                        "metadata": {
                          "ml_attr": {
                            "num_attrs": 2
                          }
                        },
                        "name": "rawPrediction",
                        "nullable": true,
                        "type": {
                          "class": "org.apache.spark.ml.linalg.VectorUDT",
                          "pyClass": "pyspark.ml.linalg.VectorUDT",
                          "sqlType": {
                            "fields": [
                              {
                                "metadata": {},
                                "name": "type",
                                "nullable": false,
                                "type": "byte"
                              },
                              {
                                "metadata": {},
                                "name": "size",
                                "nullable": true,
                                "type": "integer"
                              },
                              {
                                "metadata": {},
                                "name": "indices",
                                "nullable": true,
                                "type": {
                                  "containsNull": false,
                                  "elementType": "integer",
                                  "type": "array"
                                }
                              },
                              {
                                "metadata": {},
                                "name": "values",
                                "nullable": true,
                                "type": {
                                  "containsNull": false,
                                  "elementType": "double",
                                  "type": "array"
                                }
                              }
                            ],
                            "type": "struct"
                          },
                          "type": "udt"
                        }
                      },
                      {
                        "metadata": {
                          "ml_attr": {
                            "num_attrs": 2
                          }
                        },
                        "name": "probability",
                        "nullable": true,
                        "type": {
                          "class": "org.apache.spark.ml.linalg.VectorUDT",
                          "pyClass": "pyspark.ml.linalg.VectorUDT",
                          "sqlType": {
                            "fields": [
                              {
                                "metadata": {},
                                "name": "type",
                                "nullable": false,
                                "type": "byte"
                              },
                              {
                                "metadata": {},
                                "name": "size",
                                "nullable": true,
                                "type": "integer"
                              },
                              {
                                "metadata": {},
                                "name": "indices",
                                "nullable": true,
                                "type": {
                                  "containsNull": false,
                                  "elementType": "integer",
                                  "type": "array"
                                }
                              },
                              {
                                "metadata": {},
                                "name": "values",
                                "nullable": true,
                                "type": {
                                  "containsNull": false,
                                  "elementType": "double",
                                  "type": "array"
                                }
                              }
                            ],
                            "type": "struct"
                          },
                          "type": "udt"
                        }
                      },
                      {
                        "metadata": {
                          "ml_attr": {
                            "num_vals": 2,
                            "type": "nominal"
                          }
                        },
                        "name": "prediction",
                        "nullable": false,
                        "type": "double"
                      }
                    ],
                    "type": "struct"
                  },
                  "tableIdentifier": null
                }
              ],
              "data": "<div class=\"ansiout\">+--------------------+-----------------+--------------------+--------------------+----------+\n|            features|new_label_indexed|       rawPrediction|         probability|prediction|\n+--------------------+-----------------+--------------------+--------------------+----------+\n|(80,[0,1,2,4,7,70...|              1.0|[-1659.7208536457...|           [0.0,1.0]|       1.0|\n|(80,[0,1,2,4,7,70...|              1.0|[-49174.809078487...|           [0.0,1.0]|       1.0|\n|(80,[0,1,2,4,7,70...|              1.0|[-2548.2536640447...|           [0.0,1.0]|       1.0|\n|(80,[0,1,2,4,7,70...|              1.0|[-5500.9873166500...|           [0.0,1.0]|       1.0|\n|(80,[0,1,2,4,7,70...|              1.0|[-794.41117719738...|[3.79383608082852...|       1.0|\n|(80,[0,1,2,4,7,70...|              1.0|[-3606.0814751959...|           [0.0,1.0]|       1.0|\n|(80,[0,1,2,4,7,70...|              1.0|[-14589.169468640...|           [0.0,1.0]|       1.0|\n|(80,[0,1,2,4,7,70...|              0.0|[-26417.217059464...|           [1.0,0.0]|       0.0|\n|(80,[0,1,2,4,7,70...|              1.0|[-141608.13016537...|           [0.0,1.0]|       1.0|\n|(80,[0,1,2,4,7,70...|              1.0|[-37058.257723421...|           [0.0,1.0]|       1.0|\n|(80,[0,1,2,4,7,70...|              1.0|[-22080.854907561...|           [0.0,1.0]|       1.0|\n|(80,[0,1,2,4,7,70...|              1.0|[-1064.6063863201...|[1.43297069140129...|       1.0|\n|(80,[0,1,2,4,7,70...|              1.0|[-6501.0674791753...|           [0.0,1.0]|       1.0|\n|(80,[0,1,2,4,7,70...|              1.0|[-72873.197842142...|           [0.0,1.0]|       1.0|\n|(80,[0,1,2,4,7,70...|              1.0|[-16625.050973948...|           [0.0,1.0]|       1.0|\n|(80,[0,1,2,4,7,70...|              1.0|[-1021.8258216249...|[3.65821781985824...|       1.0|\n|(80,[0,1,2,4,7,70...|              1.0|[-27068.305348499...|           [0.0,1.0]|       1.0|\n|(80,[0,1,2,4,7,70...|              1.0|[-583.27639044626...|[8.15425338837066...|       1.0|\n|(80,[0,1,2,4,7,70...|              1.0|[-895.39308417259...|[4.27364063139935...|       1.0|\n|(80,[0,1,2,4,7,70...|              1.0|[-15767.803120418...|           [0.0,1.0]|       1.0|\n+--------------------+-----------------+--------------------+--------------------+----------+\nonly showing top 20 rows\n\n</div>",
              "removedWidgets": [],
              "addedWidgets": {},
              "metadata": {},
              "type": "html",
              "arguments": {}
            }
          },
          "data": {
            "text/html": [
              "<style scoped>\n  .ansiout {\n    display: block;\n    unicode-bidi: embed;\n    white-space: pre-wrap;\n    word-wrap: break-word;\n    word-break: break-all;\n    font-family: \"Source Code Pro\", \"Menlo\", monospace;;\n    font-size: 13px;\n    color: #555;\n    margin-left: 4px;\n    line-height: 19px;\n  }\n</style>\n<div class=\"ansiout\">+--------------------+-----------------+--------------------+--------------------+----------+\n            features|new_label_indexed|       rawPrediction|         probability|prediction|\n+--------------------+-----------------+--------------------+--------------------+----------+\n(80,[0,1,2,4,7,70...|              1.0|[-1659.7208536457...|           [0.0,1.0]|       1.0|\n(80,[0,1,2,4,7,70...|              1.0|[-49174.809078487...|           [0.0,1.0]|       1.0|\n(80,[0,1,2,4,7,70...|              1.0|[-2548.2536640447...|           [0.0,1.0]|       1.0|\n(80,[0,1,2,4,7,70...|              1.0|[-5500.9873166500...|           [0.0,1.0]|       1.0|\n(80,[0,1,2,4,7,70...|              1.0|[-794.41117719738...|[3.79383608082852...|       1.0|\n(80,[0,1,2,4,7,70...|              1.0|[-3606.0814751959...|           [0.0,1.0]|       1.0|\n(80,[0,1,2,4,7,70...|              1.0|[-14589.169468640...|           [0.0,1.0]|       1.0|\n(80,[0,1,2,4,7,70...|              0.0|[-26417.217059464...|           [1.0,0.0]|       0.0|\n(80,[0,1,2,4,7,70...|              1.0|[-141608.13016537...|           [0.0,1.0]|       1.0|\n(80,[0,1,2,4,7,70...|              1.0|[-37058.257723421...|           [0.0,1.0]|       1.0|\n(80,[0,1,2,4,7,70...|              1.0|[-22080.854907561...|           [0.0,1.0]|       1.0|\n(80,[0,1,2,4,7,70...|              1.0|[-1064.6063863201...|[1.43297069140129...|       1.0|\n(80,[0,1,2,4,7,70...|              1.0|[-6501.0674791753...|           [0.0,1.0]|       1.0|\n(80,[0,1,2,4,7,70...|              1.0|[-72873.197842142...|           [0.0,1.0]|       1.0|\n(80,[0,1,2,4,7,70...|              1.0|[-16625.050973948...|           [0.0,1.0]|       1.0|\n(80,[0,1,2,4,7,70...|              1.0|[-1021.8258216249...|[3.65821781985824...|       1.0|\n(80,[0,1,2,4,7,70...|              1.0|[-27068.305348499...|           [0.0,1.0]|       1.0|\n(80,[0,1,2,4,7,70...|              1.0|[-583.27639044626...|[8.15425338837066...|       1.0|\n(80,[0,1,2,4,7,70...|              1.0|[-895.39308417259...|[4.27364063139935...|       1.0|\n(80,[0,1,2,4,7,70...|              1.0|[-15767.803120418...|           [0.0,1.0]|       1.0|\n+--------------------+-----------------+--------------------+--------------------+----------+\nonly showing top 20 rows\n\n</div>"
            ]
          }
        }
      ],
      "execution_count": null
    },
    {
      "cell_type": "code",
      "source": [
        "#success metric 1 : Accuracy\n",
        "eval_acc = MulticlassClassificationEvaluator(labelCol=\"new_label_indexed\", predictionCol=\"prediction\", metricName=\"accuracy\")\n",
        "acc = eval_acc.evaluate(pred)\n",
        "print(\"The accuracy is = \" , acc)"
      ],
      "metadata": {
        "application/vnd.databricks.v1+cell": {
          "title": "",
          "showTitle": false,
          "inputWidgets": {},
          "nuid": "014dd9fc-57a8-47ae-8a78-f1ec5b082772"
        },
        "id": "zH9uGyM-pZkN",
        "outputId": "73b9dd88-958c-4e21-bd47-fd1c5b88c024"
      },
      "outputs": [
        {
          "output_type": "display_data",
          "metadata": {
            "application/vnd.databricks.v1+output": {
              "datasetInfos": [],
              "data": "<div class=\"ansiout\">The accuracy is =  0.9586031475795256\n</div>",
              "removedWidgets": [],
              "addedWidgets": {},
              "metadata": {},
              "type": "html",
              "arguments": {}
            }
          },
          "data": {
            "text/html": [
              "<style scoped>\n  .ansiout {\n    display: block;\n    unicode-bidi: embed;\n    white-space: pre-wrap;\n    word-wrap: break-word;\n    word-break: break-all;\n    font-family: \"Source Code Pro\", \"Menlo\", monospace;;\n    font-size: 13px;\n    color: #555;\n    margin-left: 4px;\n    line-height: 19px;\n  }\n</style>\n<div class=\"ansiout\">The accuracy is =  0.9586031475795256\n</div>"
            ]
          }
        }
      ],
      "execution_count": null
    },
    {
      "cell_type": "code",
      "source": [
        "#success metric 1 : f1 score\n",
        "eval_f1 = MulticlassClassificationEvaluator(labelCol=\"new_label_indexed\", predictionCol=\"prediction\", metricName=\"f1\")\n",
        "f1 = eval_f1.evaluate(pred)\n",
        "print(\"The f1 score is = \" , f1)"
      ],
      "metadata": {
        "application/vnd.databricks.v1+cell": {
          "title": "",
          "showTitle": false,
          "inputWidgets": {},
          "nuid": "ec5e5e3e-1464-48f3-b421-293f994d0ab5"
        },
        "id": "DtQ3XXu4pZkN",
        "outputId": "b5f5fba5-b560-48ec-82b0-5654e1dd29ab"
      },
      "outputs": [
        {
          "output_type": "display_data",
          "metadata": {
            "application/vnd.databricks.v1+output": {
              "datasetInfos": [],
              "data": "<div class=\"ansiout\">The f1 score is =  0.957069709864045\n</div>",
              "removedWidgets": [],
              "addedWidgets": {},
              "metadata": {},
              "type": "html",
              "arguments": {}
            }
          },
          "data": {
            "text/html": [
              "<style scoped>\n  .ansiout {\n    display: block;\n    unicode-bidi: embed;\n    white-space: pre-wrap;\n    word-wrap: break-word;\n    word-break: break-all;\n    font-family: \"Source Code Pro\", \"Menlo\", monospace;;\n    font-size: 13px;\n    color: #555;\n    margin-left: 4px;\n    line-height: 19px;\n  }\n</style>\n<div class=\"ansiout\">The f1 score is =  0.957069709864045\n</div>"
            ]
          }
        }
      ],
      "execution_count": null
    }
  ],
  "metadata": {
    "application/vnd.databricks.v1+notebook": {
      "notebookName": "A3",
      "dashboards": [],
      "notebookMetadata": {
        "pythonIndentUnit": 4
      },
      "language": "python",
      "widgets": {},
      "notebookOrigID": 3364992466921926
    },
    "colab": {
      "provenance": []
    }
  },
  "nbformat": 4,
  "nbformat_minor": 0
}